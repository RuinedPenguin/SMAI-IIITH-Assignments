{
 "cells": [
  {
   "cell_type": "markdown",
   "metadata": {},
   "source": [
    "__7. Write a function to generate a random number as follows: Every time the function is called, it generates 500 new random numbers from U[0, 1] and outputs their sum. Generate 50,000 random numbers by repeatedly calling the above function, and plot their normalized histogram (with bin-size = 1). What do you find about the shape of the resulting histogram?__"
   ]
  },
  {
   "cell_type": "code",
   "execution_count": 1,
   "metadata": {},
   "outputs": [],
   "source": [
    "import matplotlib.pyplot as plt\n",
    "import numpy as np"
   ]
  },
  {
   "cell_type": "code",
   "execution_count": 2,
   "metadata": {},
   "outputs": [],
   "source": [
    "def generate_random(k):\n",
    "    rand_array = np.random.rand(k)\n",
    "    return sum(rand_array)\n",
    "\n",
    "def generate_random_numbers(K, k):\n",
    "    return np.array([generate_random(k) for _ in range(K)])"
   ]
  },
  {
   "cell_type": "code",
   "execution_count": 3,
   "metadata": {},
   "outputs": [],
   "source": [
    "k = 500\n",
    "K = 50000\n",
    "random_numbers = generate_random_numbers(K, k)"
   ]
  },
  {
   "cell_type": "code",
   "execution_count": 4,
   "metadata": {},
   "outputs": [
    {
     "data": {
      "image/png": "[encoded data removed]",
      "text/plain": [
       "<Figure size 432x288 with 1 Axes>"
      ]
     },
     "metadata": {
      "needs_background": "light"
     },
     "output_type": "display_data"
    }
   ],
   "source": [
    "normalized = True\n",
    "bin_size = 1\n",
    "bins = np.int((max(random_numbers) - min(random_numbers))/1)  #bin size = 1\n",
    "plt.hist(random_numbers, bins, density = normalized)\n",
    "plt.show()"
   ]
  },
  {
   "cell_type": "markdown",
   "metadata": {},
   "source": [
    "The above histogram looks like a normal distribution curve or a bell curve  with its mean($\\mu$) at 250 which has been discretized or sampled at intervals of size=1."
   ]
  }
 ],
 "metadata": {
  "kernelspec": {
   "display_name": "Python 3",
   "language": "python",
   "name": "python3"
  },
  "language_info": {
   "codemirror_mode": {
    "name": "ipython",
    "version": 3
   },
   "file_extension": ".py",
   "mimetype": "text/x-python",
   "name": "python",
   "nbconvert_exporter": "python",
   "pygments_lexer": "ipython3",
   "version": "3.6.4"
  }
 },
 "nbformat": 4,
 "nbformat_minor": 4
}
