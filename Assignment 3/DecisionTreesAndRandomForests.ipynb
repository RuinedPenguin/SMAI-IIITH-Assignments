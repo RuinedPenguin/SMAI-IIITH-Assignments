{
 "cells": [
  {
   "cell_type": "markdown",
   "metadata": {
    "id": "Q0_wToNFHMN3"
   },
   "source": [
    "# **Decision Trees**\n",
    "\n",
    "The Wisconsin Breast Cancer Dataset(WBCD) can be found here(https://archive.ics.uci.edu/ml/machine-learning-databases/breast-cancer-wisconsin/breast-cancer-wisconsin.data)\n",
    "\n",
    "This dataset describes the characteristics of the cell nuclei of various patients with and without breast cancer. The task is to classify a decision tree to predict if a patient has a benign or a malignant tumour based on these features.\n",
    "\n",
    "Attribute Information:\n",
    "```\n",
    "#  Attribute                     Domain\n",
    "   -- -----------------------------------------\n",
    "   1. Sample code number            id number\n",
    "   2. Clump Thickness               1 - 10\n",
    "   3. Uniformity of Cell Size       1 - 10\n",
    "   4. Uniformity of Cell Shape      1 - 10\n",
    "   5. Marginal Adhesion             1 - 10\n",
    "   6. Single Epithelial Cell Size   1 - 10\n",
    "   7. Bare Nuclei                   1 - 10\n",
    "   8. Bland Chromatin               1 - 10\n",
    "   9. Normal Nucleoli               1 - 10\n",
    "  10. Mitoses                       1 - 10\n",
    "  11. Class:                        (2 for benign, 4 for malignant)\n",
    "```"
   ]
  },
  {
   "cell_type": "code",
   "execution_count": 1,
   "metadata": {
    "id": "qYdlWpUVHMOB"
   },
   "outputs": [
    {
     "data": {
      "text/html": [
       "<div>\n",
       "<style scoped>\n",
       "    .dataframe tbody tr th:only-of-type {\n",
       "        vertical-align: middle;\n",
       "    }\n",
       "\n",
       "    .dataframe tbody tr th {\n",
       "        vertical-align: top;\n",
       "    }\n",
       "\n",
       "    .dataframe thead th {\n",
       "        text-align: right;\n",
       "    }\n",
       "</style>\n",
       "<table border=\"1\" class=\"dataframe\">\n",
       "  <thead>\n",
       "    <tr style=\"text-align: right;\">\n",
       "      <th></th>\n",
       "      <th>CT</th>\n",
       "      <th>UCSize</th>\n",
       "      <th>UCShape</th>\n",
       "      <th>MA</th>\n",
       "      <th>SECSize</th>\n",
       "      <th>BN</th>\n",
       "      <th>BC</th>\n",
       "      <th>NN</th>\n",
       "      <th>Mitoses</th>\n",
       "      <th>Diagnosis</th>\n",
       "    </tr>\n",
       "  </thead>\n",
       "  <tbody>\n",
       "    <tr>\n",
       "      <th>count</th>\n",
       "      <td>699.000000</td>\n",
       "      <td>699.000000</td>\n",
       "      <td>699.000000</td>\n",
       "      <td>699.000000</td>\n",
       "      <td>699.000000</td>\n",
       "      <td>699.000000</td>\n",
       "      <td>699.000000</td>\n",
       "      <td>699.000000</td>\n",
       "      <td>699.000000</td>\n",
       "      <td>699.000000</td>\n",
       "    </tr>\n",
       "    <tr>\n",
       "      <th>mean</th>\n",
       "      <td>4.417740</td>\n",
       "      <td>3.134478</td>\n",
       "      <td>3.207439</td>\n",
       "      <td>2.806867</td>\n",
       "      <td>3.216023</td>\n",
       "      <td>3.463519</td>\n",
       "      <td>3.437768</td>\n",
       "      <td>2.866953</td>\n",
       "      <td>1.589413</td>\n",
       "      <td>2.689557</td>\n",
       "    </tr>\n",
       "    <tr>\n",
       "      <th>std</th>\n",
       "      <td>2.815741</td>\n",
       "      <td>3.051459</td>\n",
       "      <td>2.971913</td>\n",
       "      <td>2.855379</td>\n",
       "      <td>2.214300</td>\n",
       "      <td>3.640708</td>\n",
       "      <td>2.438364</td>\n",
       "      <td>3.053634</td>\n",
       "      <td>1.715078</td>\n",
       "      <td>0.951273</td>\n",
       "    </tr>\n",
       "    <tr>\n",
       "      <th>min</th>\n",
       "      <td>1.000000</td>\n",
       "      <td>1.000000</td>\n",
       "      <td>1.000000</td>\n",
       "      <td>1.000000</td>\n",
       "      <td>1.000000</td>\n",
       "      <td>0.000000</td>\n",
       "      <td>1.000000</td>\n",
       "      <td>1.000000</td>\n",
       "      <td>1.000000</td>\n",
       "      <td>2.000000</td>\n",
       "    </tr>\n",
       "    <tr>\n",
       "      <th>25%</th>\n",
       "      <td>2.000000</td>\n",
       "      <td>1.000000</td>\n",
       "      <td>1.000000</td>\n",
       "      <td>1.000000</td>\n",
       "      <td>2.000000</td>\n",
       "      <td>1.000000</td>\n",
       "      <td>2.000000</td>\n",
       "      <td>1.000000</td>\n",
       "      <td>1.000000</td>\n",
       "      <td>2.000000</td>\n",
       "    </tr>\n",
       "    <tr>\n",
       "      <th>50%</th>\n",
       "      <td>4.000000</td>\n",
       "      <td>1.000000</td>\n",
       "      <td>1.000000</td>\n",
       "      <td>1.000000</td>\n",
       "      <td>2.000000</td>\n",
       "      <td>1.000000</td>\n",
       "      <td>3.000000</td>\n",
       "      <td>1.000000</td>\n",
       "      <td>1.000000</td>\n",
       "      <td>2.000000</td>\n",
       "    </tr>\n",
       "    <tr>\n",
       "      <th>75%</th>\n",
       "      <td>6.000000</td>\n",
       "      <td>5.000000</td>\n",
       "      <td>5.000000</td>\n",
       "      <td>4.000000</td>\n",
       "      <td>4.000000</td>\n",
       "      <td>5.000000</td>\n",
       "      <td>5.000000</td>\n",
       "      <td>4.000000</td>\n",
       "      <td>1.000000</td>\n",
       "      <td>4.000000</td>\n",
       "    </tr>\n",
       "    <tr>\n",
       "      <th>max</th>\n",
       "      <td>10.000000</td>\n",
       "      <td>10.000000</td>\n",
       "      <td>10.000000</td>\n",
       "      <td>10.000000</td>\n",
       "      <td>10.000000</td>\n",
       "      <td>10.000000</td>\n",
       "      <td>10.000000</td>\n",
       "      <td>10.000000</td>\n",
       "      <td>10.000000</td>\n",
       "      <td>4.000000</td>\n",
       "    </tr>\n",
       "  </tbody>\n",
       "</table>\n",
       "</div>"
      ],
      "text/plain": [
       "               CT      UCSize     UCShape          MA     SECSize          BN  \\\n",
       "count  699.000000  699.000000  699.000000  699.000000  699.000000  699.000000   \n",
       "mean     4.417740    3.134478    3.207439    2.806867    3.216023    3.463519   \n",
       "std      2.815741    3.051459    2.971913    2.855379    2.214300    3.640708   \n",
       "min      1.000000    1.000000    1.000000    1.000000    1.000000    0.000000   \n",
       "25%      2.000000    1.000000    1.000000    1.000000    2.000000    1.000000   \n",
       "50%      4.000000    1.000000    1.000000    1.000000    2.000000    1.000000   \n",
       "75%      6.000000    5.000000    5.000000    4.000000    4.000000    5.000000   \n",
       "max     10.000000   10.000000   10.000000   10.000000   10.000000   10.000000   \n",
       "\n",
       "               BC          NN     Mitoses   Diagnosis  \n",
       "count  699.000000  699.000000  699.000000  699.000000  \n",
       "mean     3.437768    2.866953    1.589413    2.689557  \n",
       "std      2.438364    3.053634    1.715078    0.951273  \n",
       "min      1.000000    1.000000    1.000000    2.000000  \n",
       "25%      2.000000    1.000000    1.000000    2.000000  \n",
       "50%      3.000000    1.000000    1.000000    2.000000  \n",
       "75%      5.000000    4.000000    1.000000    4.000000  \n",
       "max     10.000000   10.000000   10.000000    4.000000  "
      ]
     },
     "execution_count": 1,
     "metadata": {},
     "output_type": "execute_result"
    }
   ],
   "source": [
    "import pandas as pd\n",
    "headers = [\"ID\",\"CT\",\"UCSize\",\"UCShape\",\"MA\",\"SECSize\",\"BN\",\"BC\",\"NN\",\"Mitoses\",\"Diagnosis\"]\n",
    "data = pd.read_csv('breast-cancer-wisconsin.data', na_values='?',    \n",
    "         header=None, index_col=['ID'], names = headers) \n",
    "data = data.reset_index(drop=True)\n",
    "data = data.fillna(0)\n",
    "data.describe()"
   ]
  },
  {
   "cell_type": "markdown",
   "metadata": {
    "id": "x_gQq5qrHMOG"
   },
   "source": [
    "1. a) Implement a decision tree (you can use decision tree implementation from existing libraries)."
   ]
  },
  {
   "cell_type": "code",
   "execution_count": 2,
   "metadata": {},
   "outputs": [
    {
     "data": {
      "text/html": [
       "<div>\n",
       "<style scoped>\n",
       "    .dataframe tbody tr th:only-of-type {\n",
       "        vertical-align: middle;\n",
       "    }\n",
       "\n",
       "    .dataframe tbody tr th {\n",
       "        vertical-align: top;\n",
       "    }\n",
       "\n",
       "    .dataframe thead th {\n",
       "        text-align: right;\n",
       "    }\n",
       "</style>\n",
       "<table border=\"1\" class=\"dataframe\">\n",
       "  <thead>\n",
       "    <tr style=\"text-align: right;\">\n",
       "      <th></th>\n",
       "      <th>CT</th>\n",
       "      <th>UCSize</th>\n",
       "      <th>UCShape</th>\n",
       "      <th>MA</th>\n",
       "      <th>SECSize</th>\n",
       "      <th>BN</th>\n",
       "      <th>BC</th>\n",
       "      <th>NN</th>\n",
       "      <th>Mitoses</th>\n",
       "      <th>Diagnosis</th>\n",
       "    </tr>\n",
       "  </thead>\n",
       "  <tbody>\n",
       "    <tr>\n",
       "      <th>0</th>\n",
       "      <td>5</td>\n",
       "      <td>1</td>\n",
       "      <td>1</td>\n",
       "      <td>1</td>\n",
       "      <td>2</td>\n",
       "      <td>1.0</td>\n",
       "      <td>3</td>\n",
       "      <td>1</td>\n",
       "      <td>1</td>\n",
       "      <td>2</td>\n",
       "    </tr>\n",
       "    <tr>\n",
       "      <th>1</th>\n",
       "      <td>5</td>\n",
       "      <td>4</td>\n",
       "      <td>4</td>\n",
       "      <td>5</td>\n",
       "      <td>7</td>\n",
       "      <td>10.0</td>\n",
       "      <td>3</td>\n",
       "      <td>2</td>\n",
       "      <td>1</td>\n",
       "      <td>2</td>\n",
       "    </tr>\n",
       "    <tr>\n",
       "      <th>2</th>\n",
       "      <td>3</td>\n",
       "      <td>1</td>\n",
       "      <td>1</td>\n",
       "      <td>1</td>\n",
       "      <td>2</td>\n",
       "      <td>2.0</td>\n",
       "      <td>3</td>\n",
       "      <td>1</td>\n",
       "      <td>1</td>\n",
       "      <td>2</td>\n",
       "    </tr>\n",
       "    <tr>\n",
       "      <th>3</th>\n",
       "      <td>6</td>\n",
       "      <td>8</td>\n",
       "      <td>8</td>\n",
       "      <td>1</td>\n",
       "      <td>3</td>\n",
       "      <td>4.0</td>\n",
       "      <td>3</td>\n",
       "      <td>7</td>\n",
       "      <td>1</td>\n",
       "      <td>2</td>\n",
       "    </tr>\n",
       "    <tr>\n",
       "      <th>4</th>\n",
       "      <td>4</td>\n",
       "      <td>1</td>\n",
       "      <td>1</td>\n",
       "      <td>3</td>\n",
       "      <td>2</td>\n",
       "      <td>1.0</td>\n",
       "      <td>3</td>\n",
       "      <td>1</td>\n",
       "      <td>1</td>\n",
       "      <td>2</td>\n",
       "    </tr>\n",
       "  </tbody>\n",
       "</table>\n",
       "</div>"
      ],
      "text/plain": [
       "   CT  UCSize  UCShape  MA  SECSize    BN  BC  NN  Mitoses  Diagnosis\n",
       "0   5       1        1   1        2   1.0   3   1        1          2\n",
       "1   5       4        4   5        7  10.0   3   2        1          2\n",
       "2   3       1        1   1        2   2.0   3   1        1          2\n",
       "3   6       8        8   1        3   4.0   3   7        1          2\n",
       "4   4       1        1   3        2   1.0   3   1        1          2"
      ]
     },
     "execution_count": 2,
     "metadata": {},
     "output_type": "execute_result"
    }
   ],
   "source": [
    "data.head()"
   ]
  },
  {
   "cell_type": "code",
   "execution_count": 3,
   "metadata": {},
   "outputs": [],
   "source": [
    "X = data.iloc[:,:-1].to_numpy()\n",
    "y = data['Diagnosis'].to_numpy()"
   ]
  },
  {
   "cell_type": "code",
   "execution_count": 5,
   "metadata": {},
   "outputs": [],
   "source": [
    "from sklearn import tree\n",
    "from sklearn.model_selection import train_test_split"
   ]
  },
  {
   "cell_type": "code",
   "execution_count": 6,
   "metadata": {},
   "outputs": [],
   "source": [
    "X_train, X_test, y_train, y_test = train_test_split(X,y,test_size=0.1) "
   ]
  },
  {
   "cell_type": "code",
   "execution_count": 7,
   "metadata": {},
   "outputs": [],
   "source": [
    "dt_gini = tree.DecisionTreeClassifier()\n",
    "dt_gini = dt_gini.fit(X_train, y_train)"
   ]
  },
  {
   "cell_type": "code",
   "execution_count": 8,
   "metadata": {},
   "outputs": [],
   "source": [
    "y_hat_gini = dt_gini.predict(X_test)"
   ]
  },
  {
   "cell_type": "code",
   "execution_count": 9,
   "metadata": {},
   "outputs": [
    {
     "data": {
      "text/plain": [
       "0.9428571428571428"
      ]
     },
     "execution_count": 9,
     "metadata": {},
     "output_type": "execute_result"
    }
   ],
   "source": [
    "dt_gini.score(X_test, y_test)"
   ]
  },
  {
   "cell_type": "markdown",
   "metadata": {
    "id": "VZ7N9m_mHMOJ"
   },
   "source": [
    "1. b) Train a decision tree object of the above class on the WBC dataset using misclassification rate, entropy and Gini as the splitting metrics."
   ]
  },
  {
   "cell_type": "code",
   "execution_count": 10,
   "metadata": {
    "id": "eHFij6PaHMOJ"
   },
   "outputs": [],
   "source": [
    "dt_entropy = tree.DecisionTreeClassifier(criterion='entropy')\n",
    "dt_entropy = dt_entropy.fit(X_train, y_train)"
   ]
  },
  {
   "cell_type": "code",
   "execution_count": 11,
   "metadata": {},
   "outputs": [
    {
     "data": {
      "text/plain": [
       "0.9428571428571428"
      ]
     },
     "execution_count": 11,
     "metadata": {},
     "output_type": "execute_result"
    }
   ],
   "source": [
    "dt_entropy.score(X_test, y_test)"
   ]
  },
  {
   "cell_type": "markdown",
   "metadata": {
    "id": "eXEjInvmHMOK"
   },
   "source": [
    "1. c) Report the accuracies in each of the above splitting metrics and give the best result. "
   ]
  },
  {
   "cell_type": "code",
   "execution_count": null,
   "metadata": {
    "id": "49QZvmgNHMOL"
   },
   "outputs": [],
   "source": []
  },
  {
   "cell_type": "markdown",
   "metadata": {
    "id": "Bz_7nYxPHMON"
   },
   "source": [
    "1. d) Experiment with different approaches to decide when to terminate the tree (number of layers, purity measure, etc). Report and give explanations for all approaches. "
   ]
  },
  {
   "cell_type": "code",
   "execution_count": 92,
   "metadata": {
    "id": "yLRI0niJHMOP"
   },
   "outputs": [],
   "source": [
    "from sklearn.model_selection import GridSearchCV"
   ]
  },
  {
   "cell_type": "code",
   "execution_count": 101,
   "metadata": {},
   "outputs": [],
   "source": [
    "params_grid = {'criterion':['gini','entropy'],\n",
    "              'max_depth':[4,6,8],\n",
    "              'min_samples_split':[8,4,2],\n",
    "              'min_samples_leaf':[4,3,2,1],\n",
    "              'max_leaf_nodes':[2,None],\n",
    "              'min_impurity_decrease':[0,.01,.1],\n",
    "              'ccp_alpha':[0,.1,.5]}"
   ]
  },
  {
   "cell_type": "code",
   "execution_count": 102,
   "metadata": {},
   "outputs": [
    {
     "data": {
      "text/plain": [
       "GridSearchCV(estimator=DecisionTreeClassifier(),\n",
       "             param_grid={'ccp_alpha': [0, 0.1, 0.5],\n",
       "                         'criterion': ['gini', 'entropy'],\n",
       "                         'max_depth': [4, 6, 8], 'max_leaf_nodes': [2, None],\n",
       "                         'min_impurity_decrease': [0, 0.01, 0.1],\n",
       "                         'min_samples_leaf': [4, 3, 2, 1],\n",
       "                         'min_samples_split': [8, 4, 2]})"
      ]
     },
     "execution_count": 102,
     "metadata": {},
     "output_type": "execute_result"
    }
   ],
   "source": [
    "dt = tree.DecisionTreeClassifier()\n",
    "clf = GridSearchCV(dt, params_grid)\n",
    "clf.fit(X_train,y_train)"
   ]
  },
  {
   "cell_type": "code",
   "execution_count": 106,
   "metadata": {},
   "outputs": [
    {
     "data": {
      "text/html": [
       "<div>\n",
       "<style scoped>\n",
       "    .dataframe tbody tr th:only-of-type {\n",
       "        vertical-align: middle;\n",
       "    }\n",
       "\n",
       "    .dataframe tbody tr th {\n",
       "        vertical-align: top;\n",
       "    }\n",
       "\n",
       "    .dataframe thead th {\n",
       "        text-align: right;\n",
       "    }\n",
       "</style>\n",
       "<table border=\"1\" class=\"dataframe\">\n",
       "  <thead>\n",
       "    <tr style=\"text-align: right;\">\n",
       "      <th></th>\n",
       "      <th>mean_fit_time</th>\n",
       "      <th>std_fit_time</th>\n",
       "      <th>mean_score_time</th>\n",
       "      <th>std_score_time</th>\n",
       "      <th>param_ccp_alpha</th>\n",
       "      <th>param_criterion</th>\n",
       "      <th>param_max_depth</th>\n",
       "      <th>param_max_leaf_nodes</th>\n",
       "      <th>param_min_impurity_decrease</th>\n",
       "      <th>param_min_samples_leaf</th>\n",
       "      <th>param_min_samples_split</th>\n",
       "      <th>params</th>\n",
       "      <th>split0_test_score</th>\n",
       "      <th>split1_test_score</th>\n",
       "      <th>split2_test_score</th>\n",
       "      <th>split3_test_score</th>\n",
       "      <th>split4_test_score</th>\n",
       "      <th>mean_test_score</th>\n",
       "      <th>std_test_score</th>\n",
       "      <th>rank_test_score</th>\n",
       "    </tr>\n",
       "  </thead>\n",
       "  <tbody>\n",
       "    <tr>\n",
       "      <th>0</th>\n",
       "      <td>0.011177</td>\n",
       "      <td>0.011885</td>\n",
       "      <td>0.000101</td>\n",
       "      <td>0.000202</td>\n",
       "      <td>0</td>\n",
       "      <td>gini</td>\n",
       "      <td>4</td>\n",
       "      <td>2</td>\n",
       "      <td>0</td>\n",
       "      <td>4</td>\n",
       "      <td>8</td>\n",
       "      <td>{'ccp_alpha': 0, 'criterion': 'gini', 'max_dep...</td>\n",
       "      <td>0.880952</td>\n",
       "      <td>0.928571</td>\n",
       "      <td>0.928571</td>\n",
       "      <td>0.912698</td>\n",
       "      <td>0.920</td>\n",
       "      <td>0.914159</td>\n",
       "      <td>0.017632</td>\n",
       "      <td>289</td>\n",
       "    </tr>\n",
       "    <tr>\n",
       "      <th>1</th>\n",
       "      <td>0.001990</td>\n",
       "      <td>0.003129</td>\n",
       "      <td>0.000000</td>\n",
       "      <td>0.000000</td>\n",
       "      <td>0</td>\n",
       "      <td>gini</td>\n",
       "      <td>4</td>\n",
       "      <td>2</td>\n",
       "      <td>0</td>\n",
       "      <td>4</td>\n",
       "      <td>4</td>\n",
       "      <td>{'ccp_alpha': 0, 'criterion': 'gini', 'max_dep...</td>\n",
       "      <td>0.880952</td>\n",
       "      <td>0.928571</td>\n",
       "      <td>0.928571</td>\n",
       "      <td>0.912698</td>\n",
       "      <td>0.920</td>\n",
       "      <td>0.914159</td>\n",
       "      <td>0.017632</td>\n",
       "      <td>289</td>\n",
       "    </tr>\n",
       "    <tr>\n",
       "      <th>2</th>\n",
       "      <td>0.000199</td>\n",
       "      <td>0.000399</td>\n",
       "      <td>0.000000</td>\n",
       "      <td>0.000000</td>\n",
       "      <td>0</td>\n",
       "      <td>gini</td>\n",
       "      <td>4</td>\n",
       "      <td>2</td>\n",
       "      <td>0</td>\n",
       "      <td>4</td>\n",
       "      <td>2</td>\n",
       "      <td>{'ccp_alpha': 0, 'criterion': 'gini', 'max_dep...</td>\n",
       "      <td>0.880952</td>\n",
       "      <td>0.928571</td>\n",
       "      <td>0.928571</td>\n",
       "      <td>0.912698</td>\n",
       "      <td>0.920</td>\n",
       "      <td>0.914159</td>\n",
       "      <td>0.017632</td>\n",
       "      <td>289</td>\n",
       "    </tr>\n",
       "    <tr>\n",
       "      <th>3</th>\n",
       "      <td>0.003399</td>\n",
       "      <td>0.006799</td>\n",
       "      <td>0.000199</td>\n",
       "      <td>0.000398</td>\n",
       "      <td>0</td>\n",
       "      <td>gini</td>\n",
       "      <td>4</td>\n",
       "      <td>2</td>\n",
       "      <td>0</td>\n",
       "      <td>3</td>\n",
       "      <td>8</td>\n",
       "      <td>{'ccp_alpha': 0, 'criterion': 'gini', 'max_dep...</td>\n",
       "      <td>0.880952</td>\n",
       "      <td>0.928571</td>\n",
       "      <td>0.928571</td>\n",
       "      <td>0.912698</td>\n",
       "      <td>0.920</td>\n",
       "      <td>0.914159</td>\n",
       "      <td>0.017632</td>\n",
       "      <td>289</td>\n",
       "    </tr>\n",
       "    <tr>\n",
       "      <th>4</th>\n",
       "      <td>0.004662</td>\n",
       "      <td>0.005524</td>\n",
       "      <td>0.000736</td>\n",
       "      <td>0.000632</td>\n",
       "      <td>0</td>\n",
       "      <td>gini</td>\n",
       "      <td>4</td>\n",
       "      <td>2</td>\n",
       "      <td>0</td>\n",
       "      <td>3</td>\n",
       "      <td>4</td>\n",
       "      <td>{'ccp_alpha': 0, 'criterion': 'gini', 'max_dep...</td>\n",
       "      <td>0.880952</td>\n",
       "      <td>0.928571</td>\n",
       "      <td>0.928571</td>\n",
       "      <td>0.912698</td>\n",
       "      <td>0.920</td>\n",
       "      <td>0.914159</td>\n",
       "      <td>0.017632</td>\n",
       "      <td>289</td>\n",
       "    </tr>\n",
       "    <tr>\n",
       "      <th>...</th>\n",
       "      <td>...</td>\n",
       "      <td>...</td>\n",
       "      <td>...</td>\n",
       "      <td>...</td>\n",
       "      <td>...</td>\n",
       "      <td>...</td>\n",
       "      <td>...</td>\n",
       "      <td>...</td>\n",
       "      <td>...</td>\n",
       "      <td>...</td>\n",
       "      <td>...</td>\n",
       "      <td>...</td>\n",
       "      <td>...</td>\n",
       "      <td>...</td>\n",
       "      <td>...</td>\n",
       "      <td>...</td>\n",
       "      <td>...</td>\n",
       "      <td>...</td>\n",
       "      <td>...</td>\n",
       "      <td>...</td>\n",
       "    </tr>\n",
       "    <tr>\n",
       "      <th>1291</th>\n",
       "      <td>0.000000</td>\n",
       "      <td>0.000000</td>\n",
       "      <td>0.003138</td>\n",
       "      <td>0.006276</td>\n",
       "      <td>0.5</td>\n",
       "      <td>entropy</td>\n",
       "      <td>8</td>\n",
       "      <td>None</td>\n",
       "      <td>0.1</td>\n",
       "      <td>2</td>\n",
       "      <td>4</td>\n",
       "      <td>{'ccp_alpha': 0.5, 'criterion': 'entropy', 'ma...</td>\n",
       "      <td>0.857143</td>\n",
       "      <td>0.912698</td>\n",
       "      <td>0.928571</td>\n",
       "      <td>0.912698</td>\n",
       "      <td>0.912</td>\n",
       "      <td>0.904622</td>\n",
       "      <td>0.024547</td>\n",
       "      <td>649</td>\n",
       "    </tr>\n",
       "    <tr>\n",
       "      <th>1292</th>\n",
       "      <td>0.003124</td>\n",
       "      <td>0.006249</td>\n",
       "      <td>0.000000</td>\n",
       "      <td>0.000000</td>\n",
       "      <td>0.5</td>\n",
       "      <td>entropy</td>\n",
       "      <td>8</td>\n",
       "      <td>None</td>\n",
       "      <td>0.1</td>\n",
       "      <td>2</td>\n",
       "      <td>2</td>\n",
       "      <td>{'ccp_alpha': 0.5, 'criterion': 'entropy', 'ma...</td>\n",
       "      <td>0.857143</td>\n",
       "      <td>0.912698</td>\n",
       "      <td>0.928571</td>\n",
       "      <td>0.912698</td>\n",
       "      <td>0.912</td>\n",
       "      <td>0.904622</td>\n",
       "      <td>0.024547</td>\n",
       "      <td>649</td>\n",
       "    </tr>\n",
       "    <tr>\n",
       "      <th>1293</th>\n",
       "      <td>0.000000</td>\n",
       "      <td>0.000000</td>\n",
       "      <td>0.003124</td>\n",
       "      <td>0.006248</td>\n",
       "      <td>0.5</td>\n",
       "      <td>entropy</td>\n",
       "      <td>8</td>\n",
       "      <td>None</td>\n",
       "      <td>0.1</td>\n",
       "      <td>1</td>\n",
       "      <td>8</td>\n",
       "      <td>{'ccp_alpha': 0.5, 'criterion': 'entropy', 'ma...</td>\n",
       "      <td>0.857143</td>\n",
       "      <td>0.912698</td>\n",
       "      <td>0.928571</td>\n",
       "      <td>0.912698</td>\n",
       "      <td>0.912</td>\n",
       "      <td>0.904622</td>\n",
       "      <td>0.024547</td>\n",
       "      <td>649</td>\n",
       "    </tr>\n",
       "    <tr>\n",
       "      <th>1294</th>\n",
       "      <td>0.003125</td>\n",
       "      <td>0.006249</td>\n",
       "      <td>0.000000</td>\n",
       "      <td>0.000000</td>\n",
       "      <td>0.5</td>\n",
       "      <td>entropy</td>\n",
       "      <td>8</td>\n",
       "      <td>None</td>\n",
       "      <td>0.1</td>\n",
       "      <td>1</td>\n",
       "      <td>4</td>\n",
       "      <td>{'ccp_alpha': 0.5, 'criterion': 'entropy', 'ma...</td>\n",
       "      <td>0.857143</td>\n",
       "      <td>0.912698</td>\n",
       "      <td>0.928571</td>\n",
       "      <td>0.912698</td>\n",
       "      <td>0.912</td>\n",
       "      <td>0.904622</td>\n",
       "      <td>0.024547</td>\n",
       "      <td>649</td>\n",
       "    </tr>\n",
       "    <tr>\n",
       "      <th>1295</th>\n",
       "      <td>0.003124</td>\n",
       "      <td>0.006249</td>\n",
       "      <td>0.000000</td>\n",
       "      <td>0.000000</td>\n",
       "      <td>0.5</td>\n",
       "      <td>entropy</td>\n",
       "      <td>8</td>\n",
       "      <td>None</td>\n",
       "      <td>0.1</td>\n",
       "      <td>1</td>\n",
       "      <td>2</td>\n",
       "      <td>{'ccp_alpha': 0.5, 'criterion': 'entropy', 'ma...</td>\n",
       "      <td>0.857143</td>\n",
       "      <td>0.912698</td>\n",
       "      <td>0.928571</td>\n",
       "      <td>0.912698</td>\n",
       "      <td>0.912</td>\n",
       "      <td>0.904622</td>\n",
       "      <td>0.024547</td>\n",
       "      <td>649</td>\n",
       "    </tr>\n",
       "  </tbody>\n",
       "</table>\n",
       "<p>1296 rows × 20 columns</p>\n",
       "</div>"
      ],
      "text/plain": [
       "      mean_fit_time  std_fit_time  mean_score_time  std_score_time  \\\n",
       "0          0.011177      0.011885         0.000101        0.000202   \n",
       "1          0.001990      0.003129         0.000000        0.000000   \n",
       "2          0.000199      0.000399         0.000000        0.000000   \n",
       "3          0.003399      0.006799         0.000199        0.000398   \n",
       "4          0.004662      0.005524         0.000736        0.000632   \n",
       "...             ...           ...              ...             ...   \n",
       "1291       0.000000      0.000000         0.003138        0.006276   \n",
       "1292       0.003124      0.006249         0.000000        0.000000   \n",
       "1293       0.000000      0.000000         0.003124        0.006248   \n",
       "1294       0.003125      0.006249         0.000000        0.000000   \n",
       "1295       0.003124      0.006249         0.000000        0.000000   \n",
       "\n",
       "     param_ccp_alpha param_criterion param_max_depth param_max_leaf_nodes  \\\n",
       "0                  0            gini               4                    2   \n",
       "1                  0            gini               4                    2   \n",
       "2                  0            gini               4                    2   \n",
       "3                  0            gini               4                    2   \n",
       "4                  0            gini               4                    2   \n",
       "...              ...             ...             ...                  ...   \n",
       "1291             0.5         entropy               8                 None   \n",
       "1292             0.5         entropy               8                 None   \n",
       "1293             0.5         entropy               8                 None   \n",
       "1294             0.5         entropy               8                 None   \n",
       "1295             0.5         entropy               8                 None   \n",
       "\n",
       "     param_min_impurity_decrease param_min_samples_leaf  \\\n",
       "0                              0                      4   \n",
       "1                              0                      4   \n",
       "2                              0                      4   \n",
       "3                              0                      3   \n",
       "4                              0                      3   \n",
       "...                          ...                    ...   \n",
       "1291                         0.1                      2   \n",
       "1292                         0.1                      2   \n",
       "1293                         0.1                      1   \n",
       "1294                         0.1                      1   \n",
       "1295                         0.1                      1   \n",
       "\n",
       "     param_min_samples_split  \\\n",
       "0                          8   \n",
       "1                          4   \n",
       "2                          2   \n",
       "3                          8   \n",
       "4                          4   \n",
       "...                      ...   \n",
       "1291                       4   \n",
       "1292                       2   \n",
       "1293                       8   \n",
       "1294                       4   \n",
       "1295                       2   \n",
       "\n",
       "                                                 params  split0_test_score  \\\n",
       "0     {'ccp_alpha': 0, 'criterion': 'gini', 'max_dep...           0.880952   \n",
       "1     {'ccp_alpha': 0, 'criterion': 'gini', 'max_dep...           0.880952   \n",
       "2     {'ccp_alpha': 0, 'criterion': 'gini', 'max_dep...           0.880952   \n",
       "3     {'ccp_alpha': 0, 'criterion': 'gini', 'max_dep...           0.880952   \n",
       "4     {'ccp_alpha': 0, 'criterion': 'gini', 'max_dep...           0.880952   \n",
       "...                                                 ...                ...   \n",
       "1291  {'ccp_alpha': 0.5, 'criterion': 'entropy', 'ma...           0.857143   \n",
       "1292  {'ccp_alpha': 0.5, 'criterion': 'entropy', 'ma...           0.857143   \n",
       "1293  {'ccp_alpha': 0.5, 'criterion': 'entropy', 'ma...           0.857143   \n",
       "1294  {'ccp_alpha': 0.5, 'criterion': 'entropy', 'ma...           0.857143   \n",
       "1295  {'ccp_alpha': 0.5, 'criterion': 'entropy', 'ma...           0.857143   \n",
       "\n",
       "      split1_test_score  split2_test_score  split3_test_score  \\\n",
       "0              0.928571           0.928571           0.912698   \n",
       "1              0.928571           0.928571           0.912698   \n",
       "2              0.928571           0.928571           0.912698   \n",
       "3              0.928571           0.928571           0.912698   \n",
       "4              0.928571           0.928571           0.912698   \n",
       "...                 ...                ...                ...   \n",
       "1291           0.912698           0.928571           0.912698   \n",
       "1292           0.912698           0.928571           0.912698   \n",
       "1293           0.912698           0.928571           0.912698   \n",
       "1294           0.912698           0.928571           0.912698   \n",
       "1295           0.912698           0.928571           0.912698   \n",
       "\n",
       "      split4_test_score  mean_test_score  std_test_score  rank_test_score  \n",
       "0                 0.920         0.914159        0.017632              289  \n",
       "1                 0.920         0.914159        0.017632              289  \n",
       "2                 0.920         0.914159        0.017632              289  \n",
       "3                 0.920         0.914159        0.017632              289  \n",
       "4                 0.920         0.914159        0.017632              289  \n",
       "...                 ...              ...             ...              ...  \n",
       "1291              0.912         0.904622        0.024547              649  \n",
       "1292              0.912         0.904622        0.024547              649  \n",
       "1293              0.912         0.904622        0.024547              649  \n",
       "1294              0.912         0.904622        0.024547              649  \n",
       "1295              0.912         0.904622        0.024547              649  \n",
       "\n",
       "[1296 rows x 20 columns]"
      ]
     },
     "execution_count": 106,
     "metadata": {},
     "output_type": "execute_result"
    }
   ],
   "source": [
    "pd.DataFrame(clf.cv_results_)"
   ]
  },
  {
   "cell_type": "markdown",
   "metadata": {
    "id": "uWAN_wWXHMOQ"
   },
   "source": [
    "2. What is boosting, bagging and  stacking?\n",
    "Which class does random forests belong to and why?"
   ]
  },
  {
   "cell_type": "markdown",
   "metadata": {
    "id": "LnO5uqHlHMOR"
   },
   "source": [
    "Answer:\n",
    "\n",
    "#### Boosting\n",
    "[Boosting](https://www.geeksforgeeks.org/boosting-in-machine-learning-boosting-and-adaboost/)\n",
    "\n",
    "#### Bagging\n",
    "http://en.wikipedia.org/wiki/Bootstrap_aggregating\n",
    "\n",
    "*Random Forests belong to Bagging*:\n",
    "\n",
    "#### Stacking\n",
    "https://www.geeksforgeeks.org/stacking-in-machine-learning/"
   ]
  },
  {
   "cell_type": "markdown",
   "metadata": {
    "id": "pihvGbqLHMOS"
   },
   "source": [
    "3. Implement random forest algorithm using different decision trees . "
   ]
  },
  {
   "cell_type": "code",
   "execution_count": 14,
   "metadata": {
    "id": "dXdPP2aIHMOT"
   },
   "outputs": [],
   "source": [
    "from sklearn.ensemble import RandomForestClassifier\n",
    "import numpy as np"
   ]
  },
  {
   "cell_type": "code",
   "execution_count": 13,
   "metadata": {},
   "outputs": [
    {
     "data": {
      "text/plain": [
       "0.9571428571428572"
      ]
     },
     "execution_count": 13,
     "metadata": {},
     "output_type": "execute_result"
    }
   ],
   "source": [
    "rf_gini = RandomForestClassifier(random_state=4)\n",
    "rf_gini = rf_gini.fit(X_train,y_train)\n",
    "rf_gini.score(X_test,y_test)"
   ]
  },
  {
   "cell_type": "markdown",
   "metadata": {},
   "source": [
    "### RF using DT"
   ]
  },
  {
   "cell_type": "code",
   "execution_count": 88,
   "metadata": {},
   "outputs": [],
   "source": [
    "# Bootstrap Data\n",
    "def bootstrap_data(X,y):\n",
    "    '''Create subsample of data'''\n",
    "    sample_idx = np.random.randint(0,X.shape[0],size=int(X.shape[0]*0.66))\n",
    "    \n",
    "    X_bootstrap,y_bootstrap = X[sample_idx], y[sample_idx]\n",
    "    \n",
    "    return X_bootstrap, y_bootstrap\n",
    "\n",
    "# # Select Random Features\n",
    "# def random_select_feat(feature):\n",
    "#     '''Select Random set of features. Duplicate is possible'''\n",
    "#     pass\n",
    "\n",
    "# Train Mulitple DTs based on Random Data and Random Features\n",
    "def Build_RandomForest(X,y, num_trees=100):\n",
    "    '''\n",
    "    no. of DTs\n",
    "    \n",
    "    Returns\n",
    "    -------\n",
    "    List of sklearn DTs - a random forest\n",
    "    '''\n",
    "    random_forest = []\n",
    "    for i in range(num_trees):\n",
    "        X_bootstrap, y_bootstrap = bootstrap_data(X,y)\n",
    "        tree_in_forest = tree.DecisionTreeClassifier(random_state=i, max_features='auto')\n",
    "        random_forest.append(tree_in_forest.fit(X_bootstrap, y_bootstrap))\n",
    "    \n",
    "    return random_forest\n",
    "        \n",
    "# Testing\n",
    "def RandomForest_predict(random_forest, X_test):\n",
    "    test_res = []\n",
    "    # run X_test on each DT\n",
    "    for dt in random_forest:\n",
    "        y_hat = dt.predict(X_test)\n",
    "        # Store predicitons and return\n",
    "        test_res.append(y_hat)\n",
    "    test_res = np.array(test_res)\n",
    "    y_hat_aggr = aggregate(test_res.T)\n",
    "    \n",
    "    return y_hat_aggr\n",
    "    \n",
    "def aggregate(test_result):\n",
    "    y_hat_aggr = []\n",
    "    # Perform Aggregation like Voting\n",
    "    for test in test_result:\n",
    "        y_hat, counts = np.unique(test,return_counts=True)\n",
    "        y_hat_aggr.append(y_hat[counts.argmax()])\n",
    "    \n",
    "    # Report Result\n",
    "    return y_hat_aggr\n",
    "\n",
    "def test_RandomForest(y_test, y_hat):\n",
    "    accuracy = (y_test == y_hat).sum()/len(y_test)\n",
    "    \n",
    "    return accuracy"
   ]
  },
  {
   "cell_type": "code",
   "execution_count": 89,
   "metadata": {},
   "outputs": [],
   "source": [
    "rf = Build_RandomForest(X_train,y_train)"
   ]
  },
  {
   "cell_type": "code",
   "execution_count": 90,
   "metadata": {},
   "outputs": [],
   "source": [
    "y_hat = RandomForest_predict(rf, X_test)"
   ]
  },
  {
   "cell_type": "code",
   "execution_count": 91,
   "metadata": {},
   "outputs": [
    {
     "data": {
      "text/plain": [
       "0.9571428571428572"
      ]
     },
     "execution_count": 91,
     "metadata": {},
     "output_type": "execute_result"
    }
   ],
   "source": [
    "test_RandomForest(y_test,y_hat)"
   ]
  },
  {
   "cell_type": "markdown",
   "metadata": {
    "id": "zJOn5nNZHMOU"
   },
   "source": [
    "4. Report the accuracies obtained after using the Random forest algorithm and compare it with the best accuracies obtained with the decision trees. "
   ]
  },
  {
   "cell_type": "code",
   "execution_count": null,
   "metadata": {
    "id": "Ce4KiiIGHMOV"
   },
   "outputs": [],
   "source": []
  },
  {
   "cell_type": "markdown",
   "metadata": {
    "id": "yj-vNvsYHMOX"
   },
   "source": [
    "5. Submit your solution as a separate pdf in the final zip file of your submission\n",
    "\n",
    "\n",
    "Compute a decision tree with the goal to predict the food review based on its smell, taste and portion size.\n",
    "\n",
    "(a) Compute the entropy of each rule in the first stage.\n",
    "\n",
    "(b) Show the final decision tree. Clearly draw it.\n",
    "\n",
    "Submit a handwritten response. Clearly show all the steps.\n",
    "\n"
   ]
  },
  {
   "cell_type": "code",
   "execution_count": null,
   "metadata": {},
   "outputs": [],
   "source": []
  }
 ],
 "metadata": {
  "colab": {
   "name": "Decision_trees.ipynb",
   "provenance": []
  },
  "interpreter": {
   "hash": "1f8d80d535cfd832283e4e3a1095d2ce45fe6627336684f2622a1965babb2f1c"
  },
  "kernelspec": {
   "display_name": "Python 3 (ipykernel)",
   "language": "python",
   "name": "python3"
  },
  "language_info": {
   "codemirror_mode": {
    "name": "ipython",
    "version": 3
   },
   "file_extension": ".py",
   "mimetype": "text/x-python",
   "name": "python",
   "nbconvert_exporter": "python",
   "pygments_lexer": "ipython3",
   "version": "3.7.11"
  }
 },
 "nbformat": 4,
 "nbformat_minor": 1
}
