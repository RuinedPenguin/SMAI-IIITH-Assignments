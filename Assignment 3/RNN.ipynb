{
  "nbformat": 4,
  "nbformat_minor": 0,
  "metadata": {
    "orig_nbformat": 4,
    "colab": {
      "name": "RNN.ipynb",
      "provenance": [],
      "collapsed_sections": []
    },
    "language_info": {
      "name": "python"
    },
    "kernelspec": {
      "name": "python3",
      "display_name": "Python 3"
    }
  },
  "cells": [
    {
      "cell_type": "markdown",
      "metadata": {
        "id": "Y45yhDufI5Uo"
      },
      "source": [
        "# **RNN**\n",
        "A recurrent neural network (RNN) is a class of artificial neural network where connections between units form a directed cycle. This creates an internal state of the network which allows it to exhibit dynamic temporal behavior."
      ]
    },
    {
      "cell_type": "markdown",
      "metadata": {
        "id": "55i8db8uI5U3"
      },
      "source": [
        "IMDB sentiment classification task\n",
        "\n",
        "This is a dataset for binary sentiment classification containing substantially more data than previous benchmark datasets. IMDB provided a set of 25,000 highly polar movie reviews for training, and 25,000 for testing. There is additional unlabeled data for use as well. Raw text and already processed bag of words formats are provided.\n",
        "\n",
        "You can download the dataset from http://ai.stanford.edu/~amaas/data/sentiment/  or you can directly use \n",
        "\" from keras.datasets import imdb \" to import the dataset.\n",
        "\n",
        "Few points to be noted:\n",
        "Modules like SimpleRNN, LSTM, Activation layers, Dense layers, Dropout can be directly used from keras\n",
        "For preprocessing, you can use required "
      ]
    },
    {
      "cell_type": "code",
      "metadata": {
        "id": "SozhvLNkI5U6",
        "colab": {
          "base_uri": "https://localhost:8080/"
        },
        "outputId": "f7139d02-edcf-4eda-b9f2-be17f36fd57f"
      },
      "source": [
        "#load the imdb dataset \n",
        "from keras.datasets import imdb\n",
        "\n",
        "vocabulary_size = 5000\n",
        "(X_train, y_train), (X_test, y_test) = imdb.load_data(num_words = vocabulary_size)\n",
        "print('Loaded dataset with {} training samples, {} test samples'.format(len(X_train), len(X_test)))"
      ],
      "execution_count": 1,
      "outputs": [
        {
          "output_type": "stream",
          "name": "stdout",
          "text": [
            "Downloading data from https://storage.googleapis.com/tensorflow/tf-keras-datasets/imdb.npz\n",
            "17465344/17464789 [==============================] - 0s 0us/step\n",
            "17473536/17464789 [==============================] - 0s 0us/step\n",
            "Loaded dataset with 25000 training samples, 25000 test samples\n"
          ]
        }
      ]
    },
    {
      "cell_type": "code",
      "metadata": {
        "colab": {
          "base_uri": "https://localhost:8080/"
        },
        "id": "DY2FnmbLwMPw",
        "outputId": "afdc42be-1e3c-42dc-985d-29340de326e6"
      },
      "source": [
        "X_train.shape"
      ],
      "execution_count": 2,
      "outputs": [
        {
          "output_type": "execute_result",
          "data": {
            "text/plain": [
              "(25000,)"
            ]
          },
          "metadata": {},
          "execution_count": 2
        }
      ]
    },
    {
      "cell_type": "code",
      "metadata": {
        "id": "NrilwfurI5VA",
        "colab": {
          "base_uri": "https://localhost:8080/"
        },
        "outputId": "3f26b7a0-9551-4643-e130-081c9ac17bb1"
      },
      "source": [
        "#the review is stored as a sequence of integers. \n",
        "# These are word IDs that have been pre-assigned to individual words, and the label is an integer\n",
        "\n",
        "print('---review---')\n",
        "print(X_train[20])\n",
        "print('---label---')\n",
        "print(y_train[20])\n",
        "\n",
        "# to get the actual review\n",
        "word2id = imdb.get_word_index()\n",
        "id2word = {i: word for word, i in word2id.items()}\n",
        "print('---review with words---')\n",
        "print([id2word.get(i, ' ') for i in X_train[20]])\n",
        "print('---label---')\n",
        "print(y_train[20])"
      ],
      "execution_count": 3,
      "outputs": [
        {
          "output_type": "stream",
          "name": "stdout",
          "text": [
            "---review---\n",
            "[1, 617, 11, 3875, 17, 2, 14, 966, 78, 20, 9, 38, 78, 15, 25, 413, 2, 5, 28, 8, 106, 12, 8, 4, 130, 43, 8, 67, 48, 12, 100, 79, 101, 433, 5, 12, 127, 4, 769, 9, 38, 727, 12, 186, 398, 34, 6, 312, 396, 2, 707, 4, 732, 26, 1235, 21, 2, 128, 74, 4, 2, 5, 4, 116, 9, 1639, 10, 10, 4, 2, 2, 186, 8, 28, 77, 2586, 39, 4, 4135, 2, 7, 2, 2, 50, 161, 306, 8, 30, 6, 686, 204, 326, 11, 4, 226, 20, 10, 10, 13, 258, 14, 20, 8, 30, 38, 78, 15, 13, 1498, 91, 7, 4, 96, 143, 10, 10, 2, 2, 144, 3261, 27, 419, 11, 902, 29, 540, 887, 4, 278]\n",
            "---label---\n",
            "0\n",
            "Downloading data from https://storage.googleapis.com/tensorflow/tf-keras-datasets/imdb_word_index.json\n",
            "1646592/1641221 [==============================] - 0s 0us/step\n",
            "1654784/1641221 [==============================] - 0s 0us/step\n",
            "---review with words---\n",
            "['the', 'running', 'this', 'lily', 'movie', 'and', 'as', 'monster', 'do', 'on', 'it', 'her', 'do', 'for', 'have', 'lost', 'and', 'to', 'one', 'in', 'character', 'that', 'in', 'of', 'here', 'out', 'in', 'can', 'what', 'that', 'after', 'also', 'think', 'entire', 'to', 'that', 'end', 'of', 'using', 'it', 'her', 'straight', 'that', 'horror', 'keep', 'who', 'is', 'during', 'doing', 'and', 'silly', 'of', 'oscar', 'he', 'surprisingly', 'not', 'and', 'still', 'been', 'of', 'and', 'to', 'of', 'love', 'it', 'mouth', 'i', 'i', 'of', 'and', 'and', 'horror', 'in', 'one', 'will', 'forth', 'or', 'of', 'remarkably', 'and', 'br', 'and', 'and', 'more', 'nothing', 'himself', 'in', 'at', 'is', 'four', \"i've\", 'less', 'this', 'of', 'script', 'on', 'i', 'i', 'was', 'although', 'as', 'on', 'in', 'at', 'her', 'do', 'for', 'was', 'mediocre', 'its', 'br', 'of', 'too', \"i'm\", 'i', 'i', 'and', 'and', 'real', 'thirty', 'be', 'yes', 'this', 'dramatic', 'all', 'city', 'street', 'of', 'sense']\n",
            "---label---\n",
            "0\n"
          ]
        }
      ]
    },
    {
      "cell_type": "code",
      "metadata": {
        "id": "h6upWxEWI5VC"
      },
      "source": [
        "#pad sequences (write your code here)\n",
        "from keras.preprocessing import sequence\n",
        "max_words = 400\n",
        "X_train = sequence.pad_sequences(X_train, max_words)\n",
        "X_test = sequence.pad_sequences(X_test, max_words)"
      ],
      "execution_count": 4,
      "outputs": []
    },
    {
      "cell_type": "code",
      "metadata": {
        "colab": {
          "base_uri": "https://localhost:8080/"
        },
        "id": "b7TJAB8zxjjg",
        "outputId": "ce617b34-c437-4e30-be7f-aad132da484c"
      },
      "source": [
        "X_train.shape"
      ],
      "execution_count": 5,
      "outputs": [
        {
          "output_type": "execute_result",
          "data": {
            "text/plain": [
              "(25000, 400)"
            ]
          },
          "metadata": {},
          "execution_count": 5
        }
      ]
    },
    {
      "cell_type": "code",
      "metadata": {
        "id": "-RcCOpeNI5VF",
        "colab": {
          "base_uri": "https://localhost:8080/"
        },
        "outputId": "16b92b80-6bab-473d-ef74-916721765562"
      },
      "source": [
        "#design a RNN model (write your code)\n",
        "\n",
        "from keras import Sequential\n",
        "from keras.layers import Embedding, LSTM, Dense, Dropout, SimpleRNN\n",
        "\n",
        "model_rnn = Sequential()\n",
        "model_rnn.add(Embedding(vocabulary_size, 32, input_length=max_words))\n",
        "model_rnn.add(SimpleRNN(100))\n",
        "model_rnn.add(Dense(1, activation='sigmoid'))\n",
        "print(model_rnn.summary())"
      ],
      "execution_count": 7,
      "outputs": [
        {
          "output_type": "stream",
          "name": "stdout",
          "text": [
            "Model: \"sequential_1\"\n",
            "_________________________________________________________________\n",
            " Layer (type)                Output Shape              Param #   \n",
            "=================================================================\n",
            " embedding_1 (Embedding)     (None, 400, 32)           160000    \n",
            "                                                                 \n",
            " simple_rnn_1 (SimpleRNN)    (None, 100)               13300     \n",
            "                                                                 \n",
            " dense_1 (Dense)             (None, 1)                 101       \n",
            "                                                                 \n",
            "=================================================================\n",
            "Total params: 173,401\n",
            "Trainable params: 173,401\n",
            "Non-trainable params: 0\n",
            "_________________________________________________________________\n",
            "None\n"
          ]
        }
      ]
    },
    {
      "cell_type": "code",
      "metadata": {
        "id": "WO2ymDtgLjqC"
      },
      "source": [
        "batch_size = 100\n",
        "num_epochs = 5\n",
        "X_valid, y_valid = X_train[:batch_size], y_train[:batch_size]\n",
        "X_train2, y_train2 = X_train[batch_size:], y_train[batch_size:]"
      ],
      "execution_count": 18,
      "outputs": []
    },
    {
      "cell_type": "code",
      "metadata": {
        "id": "InQ2TED3I5VI"
      },
      "source": [
        "#train and evaluate your model\n",
        "#choose your loss function and optimizer and mention the reason to choose that particular loss function and optimizer\n",
        "# use accuracy as the evaluation metric\n",
        "\n",
        "model_rnn.compile(loss='binary_crossentropy', optimizer='adam', metrics=['accuracy'])"
      ],
      "execution_count": 19,
      "outputs": []
    },
    {
      "cell_type": "markdown",
      "metadata": {
        "id": "9N9gecVqVPi-"
      },
      "source": [
        "Adam optimizer has been chosen due to its many convenient properties such as property of learning the learning rates and its robustness to hyperparameters. Adam optimizer also works well on problems with noisy or sparse gradients, and with large data sets and large parameters.\n",
        "\n",
        "Binary CrossEntropy is used as CE is a good loss measure and since we only have binary labels for reviews (negative and positive), hence binary."
      ]
    },
    {
      "cell_type": "code",
      "metadata": {
        "id": "YTXG__EmI5VM",
        "colab": {
          "base_uri": "https://localhost:8080/"
        },
        "outputId": "6e7acc73-76f1-46bd-e37d-a678a33af18c"
      },
      "source": [
        "#evaluate the model using model.evaluate()\n",
        "accuracies = model_rnn.evaluate(X_test, y_test, verbose=0)\n",
        "print('Test accuracy for Simple RNN:', accuracies[1])"
      ],
      "execution_count": 21,
      "outputs": [
        {
          "output_type": "stream",
          "name": "stdout",
          "text": [
            "Test accuracy for Simple RNN: 0.7864400148391724\n"
          ]
        }
      ]
    },
    {
      "cell_type": "code",
      "metadata": {
        "id": "q6A9Q0xmI5VJ",
        "colab": {
          "base_uri": "https://localhost:8080/"
        },
        "outputId": "c57660ea-8b80-43de-f996-b41b660afc68"
      },
      "source": [
        "history_rnn = model_rnn.fit(X_train2, y_train2, validation_data=(X_valid, y_valid), batch_size=batch_size, epochs=num_epochs)"
      ],
      "execution_count": 20,
      "outputs": [
        {
          "output_type": "stream",
          "name": "stdout",
          "text": [
            "Epoch 1/5\n",
            "249/249 [==============================] - 50s 197ms/step - loss: 0.5109 - accuracy: 0.7410 - val_loss: 0.6343 - val_accuracy: 0.6600\n",
            "Epoch 2/5\n",
            "249/249 [==============================] - 49s 196ms/step - loss: 0.4257 - accuracy: 0.8095 - val_loss: 0.4817 - val_accuracy: 0.8000\n",
            "Epoch 3/5\n",
            "249/249 [==============================] - 49s 196ms/step - loss: 0.3960 - accuracy: 0.8216 - val_loss: 0.6423 - val_accuracy: 0.6900\n",
            "Epoch 4/5\n",
            "249/249 [==============================] - 49s 196ms/step - loss: 0.4116 - accuracy: 0.8135 - val_loss: 0.6634 - val_accuracy: 0.6800\n",
            "Epoch 5/5\n",
            "249/249 [==============================] - 49s 196ms/step - loss: 0.4077 - accuracy: 0.8172 - val_loss: 0.4248 - val_accuracy: 0.8700\n"
          ]
        }
      ]
    },
    {
      "cell_type": "markdown",
      "metadata": {
        "id": "D1uSo8DgI5VN"
      },
      "source": [
        "# **LSTM**\n",
        "\n",
        "Instead of using a RNN, now try using a LSTM model and compare both of them. Which of those performed better and why ?\n"
      ]
    },
    {
      "cell_type": "code",
      "metadata": {
        "colab": {
          "base_uri": "https://localhost:8080/"
        },
        "id": "gwmOqC0N1n0l",
        "outputId": "5190b4d9-cb20-48b5-c074-f1a370de0c87"
      },
      "source": [
        "model_lstm = Sequential()\n",
        "model_lstm.add(Embedding(vocabulary_size, 32, input_length=max_words))\n",
        "model_lstm.add(LSTM(100))\n",
        "model_lstm.add(Dense(1, activation='sigmoid'))\n",
        "print(model_lstm.summary())"
      ],
      "execution_count": 22,
      "outputs": [
        {
          "output_type": "stream",
          "name": "stdout",
          "text": [
            "Model: \"sequential_3\"\n",
            "_________________________________________________________________\n",
            " Layer (type)                Output Shape              Param #   \n",
            "=================================================================\n",
            " embedding_3 (Embedding)     (None, 400, 32)           160000    \n",
            "                                                                 \n",
            " lstm_1 (LSTM)               (None, 100)               53200     \n",
            "                                                                 \n",
            " dense_3 (Dense)             (None, 1)                 101       \n",
            "                                                                 \n",
            "=================================================================\n",
            "Total params: 213,301\n",
            "Trainable params: 213,301\n",
            "Non-trainable params: 0\n",
            "_________________________________________________________________\n",
            "None\n"
          ]
        }
      ]
    },
    {
      "cell_type": "code",
      "metadata": {
        "id": "7uTYD6_J1rXO"
      },
      "source": [
        "model_lstm.compile(loss='binary_crossentropy', optimizer='adam', metrics=['accuracy'])"
      ],
      "execution_count": 23,
      "outputs": []
    },
    {
      "cell_type": "code",
      "metadata": {
        "id": "Bk4rLYHwI5VP",
        "colab": {
          "base_uri": "https://localhost:8080/"
        },
        "outputId": "83d67836-ea49-4ac1-f83e-451044771b59"
      },
      "source": [
        "history_lstm = model_lstm.fit(X_train2, y_train2, validation_data=(X_valid, y_valid), batch_size=batch_size, epochs=num_epochs)"
      ],
      "execution_count": 24,
      "outputs": [
        {
          "output_type": "stream",
          "name": "stdout",
          "text": [
            "Epoch 1/5\n",
            "249/249 [==============================] - 179s 711ms/step - loss: 0.4939 - accuracy: 0.7609 - val_loss: 0.4021 - val_accuracy: 0.8700\n",
            "Epoch 2/5\n",
            "249/249 [==============================] - 177s 710ms/step - loss: 0.3206 - accuracy: 0.8690 - val_loss: 0.3030 - val_accuracy: 0.8900\n",
            "Epoch 3/5\n",
            "249/249 [==============================] - 177s 713ms/step - loss: 0.2466 - accuracy: 0.9035 - val_loss: 0.2251 - val_accuracy: 0.9300\n",
            "Epoch 4/5\n",
            "249/249 [==============================] - 184s 739ms/step - loss: 0.2095 - accuracy: 0.9200 - val_loss: 0.2415 - val_accuracy: 0.9000\n",
            "Epoch 5/5\n",
            "249/249 [==============================] - 188s 755ms/step - loss: 0.1949 - accuracy: 0.9266 - val_loss: 0.1898 - val_accuracy: 0.9500\n"
          ]
        }
      ]
    },
    {
      "cell_type": "code",
      "metadata": {
        "colab": {
          "base_uri": "https://localhost:8080/"
        },
        "id": "Ro39D7cX0eT0",
        "outputId": "63616435-bde6-400a-fc28-fe8fa4dcb961"
      },
      "source": [
        "#evaluate the model using model.evaluate()\n",
        "accuracies = model_lstm.evaluate(X_test, y_test, verbose=0)\n",
        "print('Test accuracy for LSTM:', accuracies[1])"
      ],
      "execution_count": 25,
      "outputs": [
        {
          "output_type": "stream",
          "name": "stdout",
          "text": [
            "Test accuracy for LSTM: 0.8711599707603455\n"
          ]
        }
      ]
    },
    {
      "cell_type": "markdown",
      "metadata": {
        "id": "HOztudaZtrNY"
      },
      "source": [
        "LSTM performs better than SimpleRNN as LSTMs hold on to the information longer in their memory and hence are able to learn long-term dependencies. They can also deal with the exploding and vanishing gradients, allowing them to maintain a long-range flow of gradients. These properties make LSTM better than a simple unit"
      ]
    },
    {
      "cell_type": "markdown",
      "metadata": {
        "id": "GBtRY9jmI5VQ"
      },
      "source": [
        "Perform Error analysis and explain using few examples."
      ]
    },
    {
      "cell_type": "code",
      "metadata": {
        "id": "pL-RWIpbEGbQ"
      },
      "source": [
        "import matplotlib.pyplot as plt\n",
        "import numpy as np\n",
        "from itertools import islice"
      ],
      "execution_count": 26,
      "outputs": []
    },
    {
      "cell_type": "code",
      "metadata": {
        "colab": {
          "base_uri": "https://localhost:8080/",
          "height": 350
        },
        "id": "cRSxWJY1FPMA",
        "outputId": "36f8f96b-afbc-4146-b120-203620941293"
      },
      "source": [
        "fig, axis = plt.subplots(1,2, figsize = (10,5))\n",
        "axis[0].plot(history_rnn.history['accuracy'], 'r', label='Training accuracy')\n",
        "axis[0].plot(history_rnn.history['val_accuracy'], 'g', label='Validation accuracy')\n",
        "axis[0].set_xlabel('No. of Epochs')\n",
        "axis[0].set_title(\"Simple RNN\")\n",
        "axis[0].set_ylabel('Accuracy')\n",
        "axis[0].legend()\n",
        "\n",
        "axis[1].plot(history_rnn.history['loss'], 'r', label='Training loss')\n",
        "axis[1].plot(history_rnn.history['val_loss'], 'g', label='Validation loss')\n",
        "axis[1].set_xlabel('No. of Epochs')\n",
        "axis[1].set_title(\"Simple RNN\")\n",
        "axis[1].set_ylabel('Loss')\n",
        "axis[1].legend()\n",
        "\n",
        "plt.show()"
      ],
      "execution_count": 48,
      "outputs": [
        {
          "output_type": "display_data",
          "data": {
            "image/png": "[encoded data removed]",
            "text/plain": [
              "<Figure size 720x360 with 2 Axes>"
            ]
          },
          "metadata": {
            "needs_background": "light"
          }
        }
      ]
    },
    {
      "cell_type": "code",
      "metadata": {
        "colab": {
          "base_uri": "https://localhost:8080/",
          "height": 350
        },
        "id": "wIoHz9hQFPOV",
        "outputId": "a980ebf2-7892-440f-df06-b23b490851dc"
      },
      "source": [
        "fig, axis = plt.subplots(1,2, figsize = (10,5))\n",
        "axis[0].plot(history_lstm.history['accuracy'], 'r', label='Training accuracy')\n",
        "axis[0].plot(history_lstm.history['val_accuracy'], 'g', label='Validation accuracy')\n",
        "axis[0].set_xlabel('No. of Epochs')\n",
        "axis[0].set_title(\"LSTM\")\n",
        "axis[0].set_ylabel('Accuracy')\n",
        "axis[0].legend()\n",
        "\n",
        "axis[1].plot(history_lstm.history['loss'], 'r', label='Training loss')\n",
        "axis[1].plot(history_lstm.history['val_loss'], 'g', label='Validation loss')\n",
        "axis[1].set_xlabel('No. of Epochs')\n",
        "axis[1].set_title(\"LSTM\")\n",
        "axis[1].set_ylabel('Loss')\n",
        "axis[1].legend()\n",
        "\n",
        "plt.show()"
      ],
      "execution_count": 47,
      "outputs": [
        {
          "output_type": "display_data",
          "data": {
            "image/png": "[encoded data removed]",
            "text/plain": [
              "<Figure size 720x360 with 2 Axes>"
            ]
          },
          "metadata": {
            "needs_background": "light"
          }
        }
      ]
    },
    {
      "cell_type": "code",
      "metadata": {
        "colab": {
          "base_uri": "https://localhost:8080/"
        },
        "id": "_38Gj5QbFPQZ",
        "outputId": "df5196ab-0aba-40e3-8819-6162f905d107"
      },
      "source": [
        "word_index = imdb.get_word_index()\n",
        "print(\"Word dictionary\")\n",
        "list(islice(word_index.items(), 20))"
      ],
      "execution_count": 29,
      "outputs": [
        {
          "output_type": "stream",
          "name": "stdout",
          "text": [
            "Word dictionary\n"
          ]
        },
        {
          "output_type": "execute_result",
          "data": {
            "text/plain": [
              "[('fawn', 34701),\n",
              " ('tsukino', 52006),\n",
              " ('nunnery', 52007),\n",
              " ('sonja', 16816),\n",
              " ('vani', 63951),\n",
              " ('woods', 1408),\n",
              " ('spiders', 16115),\n",
              " ('hanging', 2345),\n",
              " ('woody', 2289),\n",
              " ('trawling', 52008),\n",
              " (\"hold's\", 52009),\n",
              " ('comically', 11307),\n",
              " ('localized', 40830),\n",
              " ('disobeying', 30568),\n",
              " (\"'royale\", 52010),\n",
              " (\"harpo's\", 40831),\n",
              " ('canet', 52011),\n",
              " ('aileen', 19313),\n",
              " ('acurately', 52012),\n",
              " (\"diplomat's\", 52013)]"
            ]
          },
          "metadata": {},
          "execution_count": 29
        }
      ]
    },
    {
      "cell_type": "code",
      "metadata": {
        "id": "bOh-ZN6LFPT0"
      },
      "source": [
        "def get_review(reviews):\n",
        "    reverse_index = dict([(v, k) for (k, v) in imdb.get_word_index().items()])\n",
        "    review = \" \".join([reverse_index.get(r-3, \"_\") for r in reviews])\n",
        "    return review"
      ],
      "execution_count": 30,
      "outputs": []
    },
    {
      "cell_type": "code",
      "metadata": {
        "colab": {
          "base_uri": "https://localhost:8080/"
        },
        "id": "T7NgdgzHFPV5",
        "outputId": "333b1cd4-ee8c-4ea9-dd72-e8125f94cc50"
      },
      "source": [
        "np.random.seed(17)\n",
        "i = np.random.choice(20000, 10, replace=False)\n",
        "\n",
        "samples = X_test[i, :]\n",
        "labels = y_test[i]\n",
        "\n",
        "actual_labels = []\n",
        "\n",
        "print('Reviews\\n')\n",
        "l = 0\n",
        "for reviews in samples:\n",
        "    r = get_review(reviews) \n",
        "    print(r.strip(\"_ \"))\n",
        "    if labels[l] != 1:\n",
        "        print(\"(Negative)\\n\")\n",
        "        actual_labels.append(\"Negative\")\n",
        "    else:\n",
        "      print(\"(Positive)\\n\")\n",
        "      actual_labels.append(\"Positive\")\n",
        "        \n",
        "    l = l + 1"
      ],
      "execution_count": 43,
      "outputs": [
        {
          "output_type": "stream",
          "name": "stdout",
          "text": [
            "Reviews\n",
            "\n",
            "look some film has got to the be worst ever i suggest it may be india song when i saw the film in _ it was playing at the _ hall cinema a place _ by people who care a lot about film from about the halfway point people were simply _ out of the theater my girlfriend wouldn't let us leave but by the end the theater was virtually empty i kept telling people as they left that the good part is still to come and it was the good part was the screen at the end that said _ it was the only good part i am still annoyed by this film 24 years later it was pointless stupid and _ _ part 2 see it only if you want to spend an endless two hours learning to _ between merely bad and simply awful\n",
            "(Negative)\n",
            "\n",
            "the video case for this film reads a story of beauty passion and forbidden _ are they talking about the same movie i just saw they can't be as the film i just saw was beautiful but there was no passion and as for the _ this is all _ meant to _ the potential viewer to see this movie if only it did have some passion or some life to it i would have greatly enjoyed this film instead it was an _ slow paced and not particularly interesting film that i would definitely not want to see again it isn't that it's a bad film after all it is very beautifully filmed but it is dull beyond belief i kept waiting for something exciting or interesting to happen but then the movie just ended there was no great sense of excitement mystery or anything just a rather _ story about a young girl who becomes a _ and spends the next 10 years of her life working as a\n",
            "(Negative)\n",
            "\n",
            "a group of teens have their car break down in the middle of nowhere they seek _ in a _ but three murderous _ are there killing the owner of said _ and his family one of them accidentally brings zombies around by _ over a scarecrow _ blood gore _ bad acting better than the first but only by _ i still wouldn't wish it on my _ enemy bob in the end the filmmaker wants it to be a _ about how we us americans are killing and our _ huh ok whatever buddy dude i'd rather _ down _ then have my _ _ and my grey matter _ out of my ears in other words become a simple minded idiot liberal br br my grade d\n",
            "(Negative)\n",
            "\n",
            "murder by numbers starring sandra _ is solid work though not particularly compelling i am a big sandra _ fan and she is effective here as _ detective _ _ who is not very likable and a broken person too however there is a sense of _ _ in the story structure it's about the perfect murder executed by two spoiled _ teenagers richard ryan who is the cool one and justin michael pitt who is the sympathetic _ basically richard and justin kill a young woman because they have nothing better to do on a school night they are very smart and very arrogant which is normally not a bad thing but it just doesn't work here tony script does a great job of _ the investigation of a _ murder and it is truly by the numbers we have these two punk kids _ their _ and we just want them to take a fall br br this is not a great exploration into the dark side like _ of fortune about _ von _ there are interesting turns in numbers the movie is not so much a thriller but rather a character study of _ sandra _ _ the _ of _ her fear of letting people get in with her and her secret past _ brings courage and strength to a suffering character her partner and sort of love interest sam played by ben chaplin is more a plot than a real character though chaplin does the _ thing very _ the other nice touch is having richard and justin involved a strange sexual attraction the most interesting thing about numbers are pitt and br br there are many entertaining twists and turns throughout the movie everything is done very _ i saw the movie about a week ago and in _ i like it a little more than i did when i saw it however it is just not inspired work sandra _ and _ _ deserve a lot better and so do we\n",
            "(Positive)\n",
            "\n",
            "isn't as great as it could have been this is also shown clearly by the way he treats his wife after a drink he lost his job as a _ through lust for a woman and even his wife a woman that is supposed to love him never really shows any _ for him even at the end his wife is more bothered about what her and her daughter will do than the state of her husband br br the _ of four seasons is a thoroughly unpleasant film there isn't a scene in the movie where someone is happy and not only that but the movie seems _ _ to _ in the misery of it's central characters the movie is certainly not recommended to anyone who is currently having a hard time that's for sure despite all the misery the film never steps out the _ of reality every event in this movie can and most probably has happened and that only serves in making the movie more shocking the film is of course _ by _ _ _ the cult german director that committed suicide in _ this is only my second taste of the man's work but through just two films it is easy to get an idea of the type of art that he creates both films are _ and gritty yet realistic pieces of art his characterization in this movie is subtle we only ever get to know the characters through their and not through their character this is a very clever way of showing the audience that it is their _ that _ the people in the film not the people themselves and as nearly everyone that sees the film knows what living in an urban society is like it wont difficult for the majority of people to relate to br br the _ of four seasons is not a film that is easily forgettable the movie is high on substance and low on style and that makes for a very memorable picture and one that everyone who _ themselves to be a fan of cinema should experience it is with that in my mind that i give this film my highest _ it's not sweet and it's not pleasant but you will not see a more realistic portrayal of depression and this is most certainly a movie that will stay with you\n",
            "(Positive)\n",
            "\n",
            "fantastic documentary a movie within a movie i'm so glad block _ on after his mother's death makes one wonder about the time and money spent in _ what might have happened if she didn't have that _ did the _ help her or just foster a _ that kept his bank account _ the audience needs to understand that divorce was less of an _ in those days she was a _ went to _ instead of going to college or job training she seemed to feel trapped by the situation i wonder if the _ ever tried to get her to think about what she could have done to change her situation and free herself meanwhile wife 2 was just the opposite she was out there working with his dad ended her bad marriage _ herself and appears to be a very _ giving person whatever the state of the marriage the _ did something right in raising 3 kids who could look at their _ story be ok with it and share it with us and maybe lead us to start conversations with our parents and\n",
            "(Positive)\n",
            "\n",
            "than you easily spot the biggest fault of the movie what was the _ the details of the murders were used but never explained i guess the team got too much into the atmosphere which is great but the story is definitely lacking there is no _ to follow i guess if that was done properly the movie would've lasted a bit longer but it would've been worth it at least for me br br casting is very good i loved wilson as the vulnerable _ br br not much more to say really but i really wish they've _ a bit more on the less obvious br br\n",
            "(Negative)\n",
            "\n",
            "when this show first came to disney i love it started watching all the time it quickly became one of my favorite disney shows ever but this show somehow _ into something that is disturbing and disappointing br br i do now find any of the second and third season fun they seem like a re watch of some teens shows i hat that garbage the first season was very unique because it showed _ who loved science and animals and creatures the first season was very entertaining i mostly don't like the second season because of ben he _ me and _ the crap _ me the plot in the second season also sucks and is just awful\n",
            "(Negative)\n",
            "\n",
            "showing first began as the _ who _ the cinema took their _ and the _ music _ _ _ presents _ _ and gary cooper in _ _ _ wife ' the title card read then the picture opened with a hilarious scene cooper wants to buy a pair of _ but he doesn't want any part of the _ he gets into a _ with the _ who seeks the help of his higher _ and their seems to be no end to the argument enter _ _ one of _ _ most beautiful charming and talented personalities i'll take the bottom ' she _ _ and there you have perhaps _ comedies finest meet _ ever the film kept my interest wonderfully i found myself laughing almost constantly when _ discovers just before a family portrait is taken that her _ to be has been married seven times the entire theatre broke into when she _ for money immediately after she gets over her shock the laughs which still haven't _ _ and edward _ _ _ some hilarious reactions out of the script as well when cooper takes inspiration from _ the _ of the _ in _ his wife by _ her in the face i could not control my laughter when she _ him back and the drunk scene with the is one of _ _ funniest comic scenes the greatest comic moment of the film came when _ a _ to teach her husband a lesson ' in pure _ fashion he _ out the wrong man instead putting her friend david _ into a cold sleep he _ as cooper is _ in order to cover up the situation _ herself in a moment of strong _ puts her _ up to _ asks where did that man hit you here right here right here ' and then _ _ him out again the film was wonderful from beginning to end it was a perfect delight i loved design for living too though i dare say i think for sheer laughs and entertainment _ wife was the better and more enjoyable film there is some charm of seeing a _ film on the large screen and in the presence of others laughing one feels more comfortable doing so himself that is perhaps why i felt the way i did about _ wife\n",
            "(Positive)\n",
            "\n",
            "this gundam series only follows gundam _ _ memory the story takes place during the same time line as the original gundam in the year u c _ the time of the one year war but the _ suits are designed as new models are and are as a result look more _ the hero of the story is a young _ _ who may lack any real combat experience but makes up for it with creativity and effort br br his life get complicated when he meets a _ _ pilot the enemy the to end up falling in love and begin to change their attitudes about the war around them the other cast of characters in the story are not there for background either every one in this story has a history to them br br there is also another _ _ suit pilot in this series that can be added into the _ of _ _ suit _ right up there with _ _ and _ is _ _ not the top villain in this series but his presence give the _ _ suit team a hard fight 3 of them against _ and his single ms _ _ suit br br in conclusion this gundam along with _ memory is a must see br br\n",
            "(Positive)\n",
            "\n"
          ]
        }
      ]
    },
    {
      "cell_type": "code",
      "metadata": {
        "colab": {
          "base_uri": "https://localhost:8080/"
        },
        "id": "0PWPIvi0FPY2",
        "outputId": "f05b44c1-8075-48e8-dbac-318a72a11d76"
      },
      "source": [
        "labels_rnn = model_rnn.predict(samples)\n",
        "labels_rnn[labels_rnn >= 0.5] = 1\n",
        "labels_rnn[labels_rnn < 0.5] = 0\n",
        "\n",
        "labels_lstm = model_lstm.predict(samples)\n",
        "labels_lstm[labels_lstm >= 0.5] = 1\n",
        "labels_lstm[labels_lstm < 0.5] = 0\n",
        "\n",
        "print(\"Actual Labels:\")\n",
        "for i in actual_labels:\n",
        "    print(i,end='; ')\n",
        "\n",
        "print(\"\\n\\nPredictions using RNN :\")\n",
        "for i in labels_rnn:\n",
        "    if i != i:\n",
        "        print(\" Negative\",end=';')\n",
        "    else:\n",
        "        print(\" Positive\",end=';')\n",
        "\n",
        "print(\"\\n\\nPredictions using LSTM:\")\n",
        "for i in labels_lstm:\n",
        "    if i != 1:\n",
        "        print(\" Negative\",end=';')\n",
        "    else:\n",
        "        print(\" Positive\",end=';')\n"
      ],
      "execution_count": 44,
      "outputs": [
        {
          "output_type": "stream",
          "name": "stdout",
          "text": [
            "Actual Labels:\n",
            "Negative; Negative; Negative; Positive; Positive; Positive; Negative; Negative; Positive; Positive; \n",
            "\n",
            "Predictions using RNN :\n",
            " Positive; Positive; Positive; Positive; Positive; Positive; Positive; Positive; Positive; Positive;\n",
            "\n",
            "Predictions using LSTM:\n",
            " Negative; Negative; Negative; Positive; Positive; Negative; Negative; Negative; Positive; Positive;"
          ]
        }
      ]
    },
    {
      "cell_type": "markdown",
      "metadata": {
        "id": "LFN3hMQgRl3a"
      },
      "source": [
        "As can be observed, LSTM performs better than Simple RNN. LSTM predicts 9/10 correctly for this sample, whereas Simple RNN only predicts 5/10 correctly."
      ]
    },
    {
      "cell_type": "code",
      "metadata": {
        "id": "VkulxcghNwwl"
      },
      "source": [
        ""
      ],
      "execution_count": null,
      "outputs": []
    }
  ]
}