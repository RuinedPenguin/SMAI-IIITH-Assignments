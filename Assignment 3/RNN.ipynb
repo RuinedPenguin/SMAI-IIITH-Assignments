{
  "nbformat": 4,
  "nbformat_minor": 0,
  "metadata": {
    "orig_nbformat": 4,
    "colab": {
      "name": "RNN.ipynb",
      "provenance": [],
      "collapsed_sections": []
    },
    "language_info": {
      "name": "python"
    },
    "kernelspec": {
      "name": "python3",
      "display_name": "Python 3"
    }
  },
  "cells": [
    {
      "cell_type": "markdown",
      "metadata": {
        "id": "Y45yhDufI5Uo"
      },
      "source": [
        "# **RNN**\n",
        "A recurrent neural network (RNN) is a class of artificial neural network where connections between units form a directed cycle. This creates an internal state of the network which allows it to exhibit dynamic temporal behavior."
      ]
    },
    {
      "cell_type": "markdown",
      "metadata": {
        "id": "55i8db8uI5U3"
      },
      "source": [
        "IMDB sentiment classification task\n",
        "\n",
        "This is a dataset for binary sentiment classification containing substantially more data than previous benchmark datasets. IMDB provided a set of 25,000 highly polar movie reviews for training, and 25,000 for testing. There is additional unlabeled data for use as well. Raw text and already processed bag of words formats are provided.\n",
        "\n",
        "You can download the dataset from http://ai.stanford.edu/~amaas/data/sentiment/  or you can directly use \n",
        "\" from keras.datasets import imdb \" to import the dataset.\n",
        "\n",
        "Few points to be noted:\n",
        "Modules like SimpleRNN, LSTM, Activation layers, Dense layers, Dropout can be directly used from keras\n",
        "For preprocessing, you can use required "
      ]
    },
    {
      "cell_type": "code",
      "metadata": {
        "id": "SozhvLNkI5U6",
        "colab": {
          "base_uri": "https://localhost:8080/"
        },
        "outputId": "797cb048-9b7c-4392-fac1-d5849c69f999"
      },
      "source": [
        "#load the imdb dataset \n",
        "from keras.datasets import imdb\n",
        "\n",
        "vocabulary_size = 5000\n",
        "(X_train, y_train), (X_test, y_test) = imdb.load_data(num_words = vocabulary_size)\n",
        "print('Loaded dataset with {} training samples, {} test samples'.format(len(X_train), len(X_test)))"
      ],
      "execution_count": null,
      "outputs": [
        {
          "output_type": "stream",
          "name": "stdout",
          "text": [
            "Downloading data from https://storage.googleapis.com/tensorflow/tf-keras-datasets/imdb.npz\n",
            "17465344/17464789 [==============================] - 0s 0us/step\n",
            "17473536/17464789 [==============================] - 0s 0us/step\n",
            "Loaded dataset with 25000 training samples, 25000 test samples\n"
          ]
        }
      ]
    },
    {
      "cell_type": "code",
      "metadata": {
        "colab": {
          "base_uri": "https://localhost:8080/"
        },
        "id": "DY2FnmbLwMPw",
        "outputId": "5e7d210b-4334-4ba1-dbc2-90162cde8a71"
      },
      "source": [
        "X_train.shape"
      ],
      "execution_count": null,
      "outputs": [
        {
          "output_type": "execute_result",
          "data": {
            "text/plain": [
              "(25000,)"
            ]
          },
          "metadata": {},
          "execution_count": 2
        }
      ]
    },
    {
      "cell_type": "code",
      "metadata": {
        "id": "NrilwfurI5VA",
        "colab": {
          "base_uri": "https://localhost:8080/"
        },
        "outputId": "00480d9e-45bb-478d-f4a3-0ec8508ab0e8"
      },
      "source": [
        "#the review is stored as a sequence of integers. \n",
        "# These are word IDs that have been pre-assigned to individual words, and the label is an integer\n",
        "\n",
        "print('---review---')\n",
        "print(X_train[20])\n",
        "print('---label---')\n",
        "print(y_train[20])\n",
        "\n",
        "# to get the actual review\n",
        "word2id = imdb.get_word_index()\n",
        "id2word = {i: word for word, i in word2id.items()}\n",
        "print('---review with words---')\n",
        "print([id2word.get(i, ' ') for i in X_train[20]])\n",
        "print('---label---')\n",
        "print(y_train[20])"
      ],
      "execution_count": null,
      "outputs": [
        {
          "output_type": "stream",
          "name": "stdout",
          "text": [
            "---review---\n",
            "[1, 617, 11, 3875, 17, 2, 14, 966, 78, 20, 9, 38, 78, 15, 25, 413, 2, 5, 28, 8, 106, 12, 8, 4, 130, 43, 8, 67, 48, 12, 100, 79, 101, 433, 5, 12, 127, 4, 769, 9, 38, 727, 12, 186, 398, 34, 6, 312, 396, 2, 707, 4, 732, 26, 1235, 21, 2, 128, 74, 4, 2, 5, 4, 116, 9, 1639, 10, 10, 4, 2, 2, 186, 8, 28, 77, 2586, 39, 4, 4135, 2, 7, 2, 2, 50, 161, 306, 8, 30, 6, 686, 204, 326, 11, 4, 226, 20, 10, 10, 13, 258, 14, 20, 8, 30, 38, 78, 15, 13, 1498, 91, 7, 4, 96, 143, 10, 10, 2, 2, 144, 3261, 27, 419, 11, 902, 29, 540, 887, 4, 278]\n",
            "---label---\n",
            "0\n",
            "---review with words---\n",
            "['the', 'running', 'this', 'lily', 'movie', 'and', 'as', 'monster', 'do', 'on', 'it', 'her', 'do', 'for', 'have', 'lost', 'and', 'to', 'one', 'in', 'character', 'that', 'in', 'of', 'here', 'out', 'in', 'can', 'what', 'that', 'after', 'also', 'think', 'entire', 'to', 'that', 'end', 'of', 'using', 'it', 'her', 'straight', 'that', 'horror', 'keep', 'who', 'is', 'during', 'doing', 'and', 'silly', 'of', 'oscar', 'he', 'surprisingly', 'not', 'and', 'still', 'been', 'of', 'and', 'to', 'of', 'love', 'it', 'mouth', 'i', 'i', 'of', 'and', 'and', 'horror', 'in', 'one', 'will', 'forth', 'or', 'of', 'remarkably', 'and', 'br', 'and', 'and', 'more', 'nothing', 'himself', 'in', 'at', 'is', 'four', \"i've\", 'less', 'this', 'of', 'script', 'on', 'i', 'i', 'was', 'although', 'as', 'on', 'in', 'at', 'her', 'do', 'for', 'was', 'mediocre', 'its', 'br', 'of', 'too', \"i'm\", 'i', 'i', 'and', 'and', 'real', 'thirty', 'be', 'yes', 'this', 'dramatic', 'all', 'city', 'street', 'of', 'sense']\n",
            "---label---\n",
            "0\n"
          ]
        }
      ]
    },
    {
      "cell_type": "code",
      "metadata": {
        "id": "h6upWxEWI5VC"
      },
      "source": [
        "#pad sequences (write your code here)\n",
        "from keras.preprocessing import sequence\n",
        "max_words = 400\n",
        "X_train = sequence.pad_sequences(X_train, max_words)\n",
        "X_test = sequence.pad_sequences(X_test, max_words)"
      ],
      "execution_count": null,
      "outputs": []
    },
    {
      "cell_type": "code",
      "metadata": {
        "colab": {
          "base_uri": "https://localhost:8080/"
        },
        "id": "b7TJAB8zxjjg",
        "outputId": "a23787d2-6e73-46ef-d0ff-adcc2b7f31e0"
      },
      "source": [
        "X_train.shape"
      ],
      "execution_count": null,
      "outputs": [
        {
          "output_type": "execute_result",
          "data": {
            "text/plain": [
              "(25000, 400)"
            ]
          },
          "metadata": {},
          "execution_count": 6
        }
      ]
    },
    {
      "cell_type": "code",
      "metadata": {
        "id": "-RcCOpeNI5VF",
        "colab": {
          "base_uri": "https://localhost:8080/"
        },
        "outputId": "bb568d78-8e8b-4a0d-bf6d-dd35a5ebb9bf"
      },
      "source": [
        "#design a RNN model (write your code)\n",
        "\n",
        "from keras import Sequential\n",
        "from keras.layers import Embedding, LSTM, Dense, Dropout, SimpleRNN\n",
        "\n",
        "model=Sequential()\n",
        "model.add(Embedding(vocabulary_size, 32, input_length=max_words))\n",
        "model.add(SimpleRNN(100))\n",
        "model.add(Dense(1, activation='sigmoid'))\n",
        "print(model.summary())"
      ],
      "execution_count": null,
      "outputs": [
        {
          "output_type": "stream",
          "name": "stdout",
          "text": [
            "Model: \"sequential_6\"\n",
            "_________________________________________________________________\n",
            " Layer (type)                Output Shape              Param #   \n",
            "=================================================================\n",
            " embedding_6 (Embedding)     (None, 400, 32)           160000    \n",
            "                                                                 \n",
            " simple_rnn_3 (SimpleRNN)    (None, 100)               13300     \n",
            "                                                                 \n",
            " dense_6 (Dense)             (None, 1)                 101       \n",
            "                                                                 \n",
            "=================================================================\n",
            "Total params: 173,401\n",
            "Trainable params: 173,401\n",
            "Non-trainable params: 0\n",
            "_________________________________________________________________\n",
            "None\n"
          ]
        }
      ]
    },
    {
      "cell_type": "code",
      "metadata": {
        "id": "InQ2TED3I5VI"
      },
      "source": [
        "#train and evaluate your model\n",
        "#choose your loss function and optimizer and mention the reason to choose that particular loss function and optimizer\n",
        "# use accuracy as the evaluation metric\n",
        "\n",
        "model.compile(loss='binary_crossentropy', optimizer='adam', metrics=['accuracy'])"
      ],
      "execution_count": null,
      "outputs": []
    },
    {
      "cell_type": "code",
      "metadata": {
        "id": "q6A9Q0xmI5VJ",
        "colab": {
          "base_uri": "https://localhost:8080/"
        },
        "outputId": "75efa91d-1f6b-4fff-c555-bb9ea8ccbc2d"
      },
      "source": [
        "batch_size = 100\n",
        "num_epochs = 5\n",
        "X_valid, y_valid = X_train[:batch_size], y_train[:batch_size]\n",
        "X_train2, y_train2 = X_train[batch_size:], y_train[batch_size:]\n",
        "model.fit(X_train2, y_train2, validation_data=(X_valid, y_valid), batch_size=batch_size, epochs=num_epochs)"
      ],
      "execution_count": null,
      "outputs": [
        {
          "output_type": "stream",
          "name": "stdout",
          "text": [
            "Epoch 1/5\n",
            "249/249 [==============================] - 110s 438ms/step - loss: 0.6472 - accuracy: 0.5951 - val_loss: 0.4143 - val_accuracy: 0.8300\n",
            "Epoch 2/5\n",
            "249/249 [==============================] - 106s 426ms/step - loss: 0.4692 - accuracy: 0.7844 - val_loss: 0.5248 - val_accuracy: 0.7500\n",
            "Epoch 3/5\n",
            "249/249 [==============================] - 108s 432ms/step - loss: 0.3973 - accuracy: 0.8279 - val_loss: 0.3343 - val_accuracy: 0.8800\n",
            "Epoch 4/5\n",
            "249/249 [==============================] - 107s 429ms/step - loss: 0.3962 - accuracy: 0.8240 - val_loss: 0.5766 - val_accuracy: 0.7100\n",
            "Epoch 5/5\n",
            "249/249 [==============================] - 107s 429ms/step - loss: 0.3911 - accuracy: 0.8356 - val_loss: 0.5677 - val_accuracy: 0.7100\n"
          ]
        },
        {
          "output_type": "execute_result",
          "data": {
            "text/plain": [
              "<keras.callbacks.History at 0x7fe37f488790>"
            ]
          },
          "metadata": {},
          "execution_count": 40
        }
      ]
    },
    {
      "cell_type": "code",
      "metadata": {
        "id": "YTXG__EmI5VM",
        "colab": {
          "base_uri": "https://localhost:8080/"
        },
        "outputId": "68706ae0-49b1-40b2-97c0-1e114348d26d"
      },
      "source": [
        "#evaluate the model using model.evaluate()\n",
        "accuracies = model.evaluate(X_test, y_test, verbose=0)\n",
        "print('Test accuracy:', accuracies[1])"
      ],
      "execution_count": null,
      "outputs": [
        {
          "output_type": "stream",
          "name": "stdout",
          "text": [
            "Test accuracy: 0.7094799876213074\n"
          ]
        }
      ]
    },
    {
      "cell_type": "markdown",
      "metadata": {
        "id": "D1uSo8DgI5VN"
      },
      "source": [
        "# **LSTM**\n",
        "\n",
        "Instead of using a RNN, now try using a LSTM model and compare both of them. Which of those performed better and why ?\n"
      ]
    },
    {
      "cell_type": "code",
      "metadata": {
        "colab": {
          "base_uri": "https://localhost:8080/"
        },
        "id": "gwmOqC0N1n0l",
        "outputId": "f2982588-d0c1-4fbe-f909-29356f81d7e6"
      },
      "source": [
        "model=Sequential()\n",
        "model.add(Embedding(vocabulary_size, 32, input_length=max_words))\n",
        "model.add(LSTM(100))\n",
        "model.add(Dense(1, activation='sigmoid'))\n",
        "print(model.summary())"
      ],
      "execution_count": null,
      "outputs": [
        {
          "output_type": "stream",
          "name": "stdout",
          "text": [
            "Model: \"sequential_7\"\n",
            "_________________________________________________________________\n",
            " Layer (type)                Output Shape              Param #   \n",
            "=================================================================\n",
            " embedding_7 (Embedding)     (None, 400, 32)           160000    \n",
            "                                                                 \n",
            " lstm_3 (LSTM)               (None, 100)               53200     \n",
            "                                                                 \n",
            " dense_7 (Dense)             (None, 1)                 101       \n",
            "                                                                 \n",
            "=================================================================\n",
            "Total params: 213,301\n",
            "Trainable params: 213,301\n",
            "Non-trainable params: 0\n",
            "_________________________________________________________________\n",
            "None\n"
          ]
        }
      ]
    },
    {
      "cell_type": "code",
      "metadata": {
        "id": "7uTYD6_J1rXO"
      },
      "source": [
        "model.compile(loss='binary_crossentropy', optimizer='adam', metrics=['accuracy'])"
      ],
      "execution_count": null,
      "outputs": []
    },
    {
      "cell_type": "code",
      "metadata": {
        "id": "Bk4rLYHwI5VP",
        "colab": {
          "base_uri": "https://localhost:8080/"
        },
        "outputId": "0e5c6e5c-c93f-4fa6-99cb-eea39d72caf3"
      },
      "source": [
        "model.fit(X_train2, y_train2, validation_data=(X_valid, y_valid), batch_size=batch_size, epochs=num_epochs)"
      ],
      "execution_count": null,
      "outputs": [
        {
          "output_type": "stream",
          "name": "stdout",
          "text": [
            "Epoch 1/5\n",
            "249/249 [==============================] - 22s 80ms/step - loss: 0.4690 - accuracy: 0.7643 - val_loss: 0.2944 - val_accuracy: 0.9100\n",
            "Epoch 2/5\n",
            "249/249 [==============================] - 19s 76ms/step - loss: 0.2723 - accuracy: 0.8902 - val_loss: 0.2484 - val_accuracy: 0.8900\n",
            "Epoch 3/5\n",
            "249/249 [==============================] - 19s 75ms/step - loss: 0.2364 - accuracy: 0.9074 - val_loss: 0.2466 - val_accuracy: 0.9100\n",
            "Epoch 4/5\n",
            "249/249 [==============================] - 19s 75ms/step - loss: 0.2065 - accuracy: 0.9219 - val_loss: 0.2475 - val_accuracy: 0.9100\n",
            "Epoch 5/5\n",
            "249/249 [==============================] - 19s 75ms/step - loss: 0.2062 - accuracy: 0.9214 - val_loss: 0.2502 - val_accuracy: 0.9100\n"
          ]
        },
        {
          "output_type": "execute_result",
          "data": {
            "text/plain": [
              "<keras.callbacks.History at 0x7fe37738b610>"
            ]
          },
          "metadata": {},
          "execution_count": 44
        }
      ]
    },
    {
      "cell_type": "code",
      "metadata": {
        "colab": {
          "base_uri": "https://localhost:8080/"
        },
        "id": "Ro39D7cX0eT0",
        "outputId": "aa963048-b705-4675-c7f4-59f3d8208038"
      },
      "source": [
        "#evaluate the model using model.evaluate()\n",
        "accuracies = model.evaluate(X_test, y_test, verbose=0)\n",
        "print('Test accuracy:', accuracies[1])"
      ],
      "execution_count": null,
      "outputs": [
        {
          "output_type": "stream",
          "name": "stdout",
          "text": [
            "Test accuracy: 0.8576800227165222\n"
          ]
        }
      ]
    },
    {
      "cell_type": "markdown",
      "metadata": {
        "id": "HOztudaZtrNY"
      },
      "source": [
        "LSTM performs better than SimpleRNN as LSTMs hold on to the information longer in their memory and hence are able to learn long-term dependencies. They can also deal with the exploding and vanishing gradients, allowing them to maintain a long-range flow of gradients. These properties make LSTM better than a simple unit"
      ]
    },
    {
      "cell_type": "markdown",
      "metadata": {
        "id": "GBtRY9jmI5VQ"
      },
      "source": [
        "Perform Error analysis and explain using few examples."
      ]
    },
    {
      "cell_type": "code",
      "metadata": {
        "id": "pL-RWIpbEGbQ"
      },
      "source": [
        ""
      ],
      "execution_count": null,
      "outputs": []
    }
  ]
}