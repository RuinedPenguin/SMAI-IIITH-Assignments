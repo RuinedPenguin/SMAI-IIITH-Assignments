{
  "nbformat": 4,
  "nbformat_minor": 0,
  "metadata": {
    "colab": {
      "name": "DecisionTreesAndRandomForests.ipynb",
      "provenance": []
    },
    "interpreter": {
      "hash": "1f8d80d535cfd832283e4e3a1095d2ce45fe6627336684f2622a1965babb2f1c"
    },
    "kernelspec": {
      "display_name": "Python 3 (ipykernel)",
      "language": "python",
      "name": "python3"
    },
    "language_info": {
      "codemirror_mode": {
        "name": "ipython",
        "version": 3
      },
      "file_extension": ".py",
      "mimetype": "text/x-python",
      "name": "python",
      "nbconvert_exporter": "python",
      "pygments_lexer": "ipython3",
      "version": "3.7.11"
    }
  },
  "cells": [
    {
      "cell_type": "markdown",
      "metadata": {
        "id": "Q0_wToNFHMN3"
      },
      "source": [
        "# **Decision Trees**\n",
        "\n",
        "The Wisconsin Breast Cancer Dataset(WBCD) can be found here(https://archive.ics.uci.edu/ml/machine-learning-databases/breast-cancer-wisconsin/breast-cancer-wisconsin.data)\n",
        "\n",
        "This dataset describes the characteristics of the cell nuclei of various patients with and without breast cancer. The task is to classify a decision tree to predict if a patient has a benign or a malignant tumour based on these features.\n",
        "\n",
        "Attribute Information:\n",
        "```\n",
        "#  Attribute                     Domain\n",
        "   -- -----------------------------------------\n",
        "   1. Sample code number            id number\n",
        "   2. Clump Thickness               1 - 10\n",
        "   3. Uniformity of Cell Size       1 - 10\n",
        "   4. Uniformity of Cell Shape      1 - 10\n",
        "   5. Marginal Adhesion             1 - 10\n",
        "   6. Single Epithelial Cell Size   1 - 10\n",
        "   7. Bare Nuclei                   1 - 10\n",
        "   8. Bland Chromatin               1 - 10\n",
        "   9. Normal Nucleoli               1 - 10\n",
        "  10. Mitoses                       1 - 10\n",
        "  11. Class:                        (2 for benign, 4 for malignant)\n",
        "```"
      ]
    },
    {
      "cell_type": "code",
      "metadata": {
        "id": "qYdlWpUVHMOB",
        "colab": {
          "base_uri": "https://localhost:8080/",
          "height": 300
        },
        "outputId": "12d34294-35ea-4635-fc2d-721e13627a25"
      },
      "source": [
        "import pandas as pd\n",
        "headers = [\"ID\",\"CT\",\"UCSize\",\"UCShape\",\"MA\",\"SECSize\",\"BN\",\"BC\",\"NN\",\"Mitoses\",\"Diagnosis\"]\n",
        "data = pd.read_csv('breast-cancer-wisconsin.data', na_values='?',    \n",
        "         header=None, index_col=['ID'], names = headers) \n",
        "data = data.reset_index(drop=True)\n",
        "data = data.fillna(0)\n",
        "data.describe()"
      ],
      "execution_count": 1,
      "outputs": [
        {
          "output_type": "execute_result",
          "data": {
            "text/html": [
              "<div>\n",
              "<style scoped>\n",
              "    .dataframe tbody tr th:only-of-type {\n",
              "        vertical-align: middle;\n",
              "    }\n",
              "\n",
              "    .dataframe tbody tr th {\n",
              "        vertical-align: top;\n",
              "    }\n",
              "\n",
              "    .dataframe thead th {\n",
              "        text-align: right;\n",
              "    }\n",
              "</style>\n",
              "<table border=\"1\" class=\"dataframe\">\n",
              "  <thead>\n",
              "    <tr style=\"text-align: right;\">\n",
              "      <th></th>\n",
              "      <th>CT</th>\n",
              "      <th>UCSize</th>\n",
              "      <th>UCShape</th>\n",
              "      <th>MA</th>\n",
              "      <th>SECSize</th>\n",
              "      <th>BN</th>\n",
              "      <th>BC</th>\n",
              "      <th>NN</th>\n",
              "      <th>Mitoses</th>\n",
              "      <th>Diagnosis</th>\n",
              "    </tr>\n",
              "  </thead>\n",
              "  <tbody>\n",
              "    <tr>\n",
              "      <th>count</th>\n",
              "      <td>699.000000</td>\n",
              "      <td>699.000000</td>\n",
              "      <td>699.000000</td>\n",
              "      <td>699.000000</td>\n",
              "      <td>699.000000</td>\n",
              "      <td>699.000000</td>\n",
              "      <td>699.000000</td>\n",
              "      <td>699.000000</td>\n",
              "      <td>699.000000</td>\n",
              "      <td>699.000000</td>\n",
              "    </tr>\n",
              "    <tr>\n",
              "      <th>mean</th>\n",
              "      <td>4.417740</td>\n",
              "      <td>3.134478</td>\n",
              "      <td>3.207439</td>\n",
              "      <td>2.806867</td>\n",
              "      <td>3.216023</td>\n",
              "      <td>3.463519</td>\n",
              "      <td>3.437768</td>\n",
              "      <td>2.866953</td>\n",
              "      <td>1.589413</td>\n",
              "      <td>2.689557</td>\n",
              "    </tr>\n",
              "    <tr>\n",
              "      <th>std</th>\n",
              "      <td>2.815741</td>\n",
              "      <td>3.051459</td>\n",
              "      <td>2.971913</td>\n",
              "      <td>2.855379</td>\n",
              "      <td>2.214300</td>\n",
              "      <td>3.640708</td>\n",
              "      <td>2.438364</td>\n",
              "      <td>3.053634</td>\n",
              "      <td>1.715078</td>\n",
              "      <td>0.951273</td>\n",
              "    </tr>\n",
              "    <tr>\n",
              "      <th>min</th>\n",
              "      <td>1.000000</td>\n",
              "      <td>1.000000</td>\n",
              "      <td>1.000000</td>\n",
              "      <td>1.000000</td>\n",
              "      <td>1.000000</td>\n",
              "      <td>0.000000</td>\n",
              "      <td>1.000000</td>\n",
              "      <td>1.000000</td>\n",
              "      <td>1.000000</td>\n",
              "      <td>2.000000</td>\n",
              "    </tr>\n",
              "    <tr>\n",
              "      <th>25%</th>\n",
              "      <td>2.000000</td>\n",
              "      <td>1.000000</td>\n",
              "      <td>1.000000</td>\n",
              "      <td>1.000000</td>\n",
              "      <td>2.000000</td>\n",
              "      <td>1.000000</td>\n",
              "      <td>2.000000</td>\n",
              "      <td>1.000000</td>\n",
              "      <td>1.000000</td>\n",
              "      <td>2.000000</td>\n",
              "    </tr>\n",
              "    <tr>\n",
              "      <th>50%</th>\n",
              "      <td>4.000000</td>\n",
              "      <td>1.000000</td>\n",
              "      <td>1.000000</td>\n",
              "      <td>1.000000</td>\n",
              "      <td>2.000000</td>\n",
              "      <td>1.000000</td>\n",
              "      <td>3.000000</td>\n",
              "      <td>1.000000</td>\n",
              "      <td>1.000000</td>\n",
              "      <td>2.000000</td>\n",
              "    </tr>\n",
              "    <tr>\n",
              "      <th>75%</th>\n",
              "      <td>6.000000</td>\n",
              "      <td>5.000000</td>\n",
              "      <td>5.000000</td>\n",
              "      <td>4.000000</td>\n",
              "      <td>4.000000</td>\n",
              "      <td>5.000000</td>\n",
              "      <td>5.000000</td>\n",
              "      <td>4.000000</td>\n",
              "      <td>1.000000</td>\n",
              "      <td>4.000000</td>\n",
              "    </tr>\n",
              "    <tr>\n",
              "      <th>max</th>\n",
              "      <td>10.000000</td>\n",
              "      <td>10.000000</td>\n",
              "      <td>10.000000</td>\n",
              "      <td>10.000000</td>\n",
              "      <td>10.000000</td>\n",
              "      <td>10.000000</td>\n",
              "      <td>10.000000</td>\n",
              "      <td>10.000000</td>\n",
              "      <td>10.000000</td>\n",
              "      <td>4.000000</td>\n",
              "    </tr>\n",
              "  </tbody>\n",
              "</table>\n",
              "</div>"
            ],
            "text/plain": [
              "               CT      UCSize     UCShape  ...          NN     Mitoses   Diagnosis\n",
              "count  699.000000  699.000000  699.000000  ...  699.000000  699.000000  699.000000\n",
              "mean     4.417740    3.134478    3.207439  ...    2.866953    1.589413    2.689557\n",
              "std      2.815741    3.051459    2.971913  ...    3.053634    1.715078    0.951273\n",
              "min      1.000000    1.000000    1.000000  ...    1.000000    1.000000    2.000000\n",
              "25%      2.000000    1.000000    1.000000  ...    1.000000    1.000000    2.000000\n",
              "50%      4.000000    1.000000    1.000000  ...    1.000000    1.000000    2.000000\n",
              "75%      6.000000    5.000000    5.000000  ...    4.000000    1.000000    4.000000\n",
              "max     10.000000   10.000000   10.000000  ...   10.000000   10.000000    4.000000\n",
              "\n",
              "[8 rows x 10 columns]"
            ]
          },
          "metadata": {},
          "execution_count": 1
        }
      ]
    },
    {
      "cell_type": "markdown",
      "metadata": {
        "id": "x_gQq5qrHMOG"
      },
      "source": [
        "1. a) Implement a decision tree (you can use decision tree implementation from existing libraries)."
      ]
    },
    {
      "cell_type": "code",
      "metadata": {
        "colab": {
          "base_uri": "https://localhost:8080/",
          "height": 206
        },
        "id": "MO6QzU4B-QLf",
        "outputId": "c5c67f71-c32b-4ebf-80f3-070970b96add"
      },
      "source": [
        "data.head()"
      ],
      "execution_count": 2,
      "outputs": [
        {
          "output_type": "execute_result",
          "data": {
            "text/html": [
              "<div>\n",
              "<style scoped>\n",
              "    .dataframe tbody tr th:only-of-type {\n",
              "        vertical-align: middle;\n",
              "    }\n",
              "\n",
              "    .dataframe tbody tr th {\n",
              "        vertical-align: top;\n",
              "    }\n",
              "\n",
              "    .dataframe thead th {\n",
              "        text-align: right;\n",
              "    }\n",
              "</style>\n",
              "<table border=\"1\" class=\"dataframe\">\n",
              "  <thead>\n",
              "    <tr style=\"text-align: right;\">\n",
              "      <th></th>\n",
              "      <th>CT</th>\n",
              "      <th>UCSize</th>\n",
              "      <th>UCShape</th>\n",
              "      <th>MA</th>\n",
              "      <th>SECSize</th>\n",
              "      <th>BN</th>\n",
              "      <th>BC</th>\n",
              "      <th>NN</th>\n",
              "      <th>Mitoses</th>\n",
              "      <th>Diagnosis</th>\n",
              "    </tr>\n",
              "  </thead>\n",
              "  <tbody>\n",
              "    <tr>\n",
              "      <th>0</th>\n",
              "      <td>5</td>\n",
              "      <td>1</td>\n",
              "      <td>1</td>\n",
              "      <td>1</td>\n",
              "      <td>2</td>\n",
              "      <td>1.0</td>\n",
              "      <td>3</td>\n",
              "      <td>1</td>\n",
              "      <td>1</td>\n",
              "      <td>2</td>\n",
              "    </tr>\n",
              "    <tr>\n",
              "      <th>1</th>\n",
              "      <td>5</td>\n",
              "      <td>4</td>\n",
              "      <td>4</td>\n",
              "      <td>5</td>\n",
              "      <td>7</td>\n",
              "      <td>10.0</td>\n",
              "      <td>3</td>\n",
              "      <td>2</td>\n",
              "      <td>1</td>\n",
              "      <td>2</td>\n",
              "    </tr>\n",
              "    <tr>\n",
              "      <th>2</th>\n",
              "      <td>3</td>\n",
              "      <td>1</td>\n",
              "      <td>1</td>\n",
              "      <td>1</td>\n",
              "      <td>2</td>\n",
              "      <td>2.0</td>\n",
              "      <td>3</td>\n",
              "      <td>1</td>\n",
              "      <td>1</td>\n",
              "      <td>2</td>\n",
              "    </tr>\n",
              "    <tr>\n",
              "      <th>3</th>\n",
              "      <td>6</td>\n",
              "      <td>8</td>\n",
              "      <td>8</td>\n",
              "      <td>1</td>\n",
              "      <td>3</td>\n",
              "      <td>4.0</td>\n",
              "      <td>3</td>\n",
              "      <td>7</td>\n",
              "      <td>1</td>\n",
              "      <td>2</td>\n",
              "    </tr>\n",
              "    <tr>\n",
              "      <th>4</th>\n",
              "      <td>4</td>\n",
              "      <td>1</td>\n",
              "      <td>1</td>\n",
              "      <td>3</td>\n",
              "      <td>2</td>\n",
              "      <td>1.0</td>\n",
              "      <td>3</td>\n",
              "      <td>1</td>\n",
              "      <td>1</td>\n",
              "      <td>2</td>\n",
              "    </tr>\n",
              "  </tbody>\n",
              "</table>\n",
              "</div>"
            ],
            "text/plain": [
              "   CT  UCSize  UCShape  MA  SECSize    BN  BC  NN  Mitoses  Diagnosis\n",
              "0   5       1        1   1        2   1.0   3   1        1          2\n",
              "1   5       4        4   5        7  10.0   3   2        1          2\n",
              "2   3       1        1   1        2   2.0   3   1        1          2\n",
              "3   6       8        8   1        3   4.0   3   7        1          2\n",
              "4   4       1        1   3        2   1.0   3   1        1          2"
            ]
          },
          "metadata": {},
          "execution_count": 2
        }
      ]
    },
    {
      "cell_type": "code",
      "metadata": {
        "id": "KinXwocB-QLg"
      },
      "source": [
        "X = data.iloc[:,:-1].to_numpy()\n",
        "y = data['Diagnosis'].to_numpy()"
      ],
      "execution_count": 3,
      "outputs": []
    },
    {
      "cell_type": "code",
      "metadata": {
        "id": "imwfrGXw-QLg"
      },
      "source": [
        "from sklearn import tree\n",
        "from sklearn.model_selection import train_test_split"
      ],
      "execution_count": 4,
      "outputs": []
    },
    {
      "cell_type": "code",
      "metadata": {
        "id": "Qttfz1OX-QLh"
      },
      "source": [
        "X_train, X_test, y_train, y_test = train_test_split(X,y,test_size=0.1) "
      ],
      "execution_count": 5,
      "outputs": []
    },
    {
      "cell_type": "markdown",
      "metadata": {
        "id": "VZ7N9m_mHMOJ"
      },
      "source": [
        "1. b) Train a decision tree object of the above class on the WBC dataset using entropy and Gini as the splitting metrics."
      ]
    },
    {
      "cell_type": "code",
      "metadata": {
        "id": "L_pMeCC7-QLi"
      },
      "source": [
        "dt_gini = tree.DecisionTreeClassifier(criterion='gini')\n",
        "dt_gini = dt_gini.fit(X_train, y_train)"
      ],
      "execution_count": 6,
      "outputs": []
    },
    {
      "cell_type": "code",
      "metadata": {
        "id": "fXANG2Kg-QLi"
      },
      "source": [
        "y_hat_gini = dt_gini.predict(X_test)"
      ],
      "execution_count": 7,
      "outputs": []
    },
    {
      "cell_type": "code",
      "metadata": {
        "colab": {
          "base_uri": "https://localhost:8080/"
        },
        "id": "JT0Aa0MM-QLj",
        "outputId": "cde2ee4c-cc56-466d-c9c4-fdfa22ccff20"
      },
      "source": [
        "dt_gini.score(X_test, y_test)"
      ],
      "execution_count": 8,
      "outputs": [
        {
          "output_type": "execute_result",
          "data": {
            "text/plain": [
              "0.9428571428571428"
            ]
          },
          "metadata": {},
          "execution_count": 8
        }
      ]
    },
    {
      "cell_type": "code",
      "metadata": {
        "id": "eHFij6PaHMOJ"
      },
      "source": [
        "dt_entropy = tree.DecisionTreeClassifier(criterion='entropy')\n",
        "dt_entropy = dt_entropy.fit(X_train, y_train)"
      ],
      "execution_count": 9,
      "outputs": []
    },
    {
      "cell_type": "code",
      "metadata": {
        "id": "MkAz5I7VOdG7"
      },
      "source": [
        "y_hat_entropy = dt_entropy.predict(X_test)"
      ],
      "execution_count": 10,
      "outputs": []
    },
    {
      "cell_type": "code",
      "metadata": {
        "colab": {
          "base_uri": "https://localhost:8080/"
        },
        "id": "8YYzq6B5-QLk",
        "outputId": "6df40db9-5abb-416c-b5bf-54698f9619e0"
      },
      "source": [
        "dt_entropy.score(X_test, y_test)"
      ],
      "execution_count": 11,
      "outputs": [
        {
          "output_type": "execute_result",
          "data": {
            "text/plain": [
              "0.9428571428571428"
            ]
          },
          "metadata": {},
          "execution_count": 11
        }
      ]
    },
    {
      "cell_type": "markdown",
      "metadata": {
        "id": "eXEjInvmHMOK"
      },
      "source": [
        "1. c) Report the accuracies in each of the above splitting metrics and give the best result. "
      ]
    },
    {
      "cell_type": "code",
      "metadata": {
        "id": "49QZvmgNHMOL",
        "colab": {
          "base_uri": "https://localhost:8080/"
        },
        "outputId": "52e2b318-a58d-4dba-908f-73c78ee9cc29"
      },
      "source": [
        "from sklearn import metrics\n",
        "\n",
        "print(\"\\n Gini Accuracy: \", metrics.accuracy_score(y_hat_gini, y_test))\n",
        "print(\"\\n Entropy Accuracy: \", metrics.accuracy_score(y_hat_entropy, y_test))"
      ],
      "execution_count": 12,
      "outputs": [
        {
          "output_type": "stream",
          "name": "stdout",
          "text": [
            "\n",
            " Gini Accuracy:  0.9428571428571428\n",
            "\n",
            " Entropy Accuracy:  0.9428571428571428\n"
          ]
        }
      ]
    },
    {
      "cell_type": "markdown",
      "metadata": {
        "id": "Bz_7nYxPHMON"
      },
      "source": [
        "1. d) Experiment with different approaches to decide when to terminate the tree (number of layers, purity measure, etc). Report and give explanations for all approaches. "
      ]
    },
    {
      "cell_type": "code",
      "metadata": {
        "id": "yLRI0niJHMOP"
      },
      "source": [
        "from sklearn.model_selection import GridSearchCV"
      ],
      "execution_count": 13,
      "outputs": []
    },
    {
      "cell_type": "code",
      "metadata": {
        "id": "ph1-kHg6-QLm"
      },
      "source": [
        "params_grid = {'criterion':['gini','entropy'],\n",
        "              'max_depth':[4,6,8],\n",
        "              'min_samples_split':[8,4,2],\n",
        "              'min_samples_leaf':[4,3,2,1],\n",
        "              'max_leaf_nodes':[2,None],\n",
        "              'min_impurity_decrease':[0,.01,.1],\n",
        "              'ccp_alpha':[0,.1,.5]}"
      ],
      "execution_count": 14,
      "outputs": []
    },
    {
      "cell_type": "code",
      "metadata": {
        "colab": {
          "base_uri": "https://localhost:8080/"
        },
        "id": "jhLzkqdH-QLm",
        "outputId": "ecf1c97b-2cc8-4edf-f86a-22bda6657ab7"
      },
      "source": [
        "dt = tree.DecisionTreeClassifier()\n",
        "clf = GridSearchCV(dt, params_grid)\n",
        "clf.fit(X_train,y_train)"
      ],
      "execution_count": 15,
      "outputs": [
        {
          "output_type": "execute_result",
          "data": {
            "text/plain": [
              "GridSearchCV(estimator=DecisionTreeClassifier(),\n",
              "             param_grid={'ccp_alpha': [0, 0.1, 0.5],\n",
              "                         'criterion': ['gini', 'entropy'],\n",
              "                         'max_depth': [4, 6, 8], 'max_leaf_nodes': [2, None],\n",
              "                         'min_impurity_decrease': [0, 0.01, 0.1],\n",
              "                         'min_samples_leaf': [4, 3, 2, 1],\n",
              "                         'min_samples_split': [8, 4, 2]})"
            ]
          },
          "metadata": {},
          "execution_count": 15
        }
      ]
    },
    {
      "cell_type": "code",
      "metadata": {
        "colab": {
          "base_uri": "https://localhost:8080/",
          "height": 1000
        },
        "id": "lH__cu4R-QLm",
        "outputId": "15ee9b78-b70b-4ab3-9783-a60f5f9c73e2"
      },
      "source": [
        "pd.DataFrame(clf.cv_results_)"
      ],
      "execution_count": 16,
      "outputs": [
        {
          "output_type": "execute_result",
          "data": {
            "text/html": [
              "<div>\n",
              "<style scoped>\n",
              "    .dataframe tbody tr th:only-of-type {\n",
              "        vertical-align: middle;\n",
              "    }\n",
              "\n",
              "    .dataframe tbody tr th {\n",
              "        vertical-align: top;\n",
              "    }\n",
              "\n",
              "    .dataframe thead th {\n",
              "        text-align: right;\n",
              "    }\n",
              "</style>\n",
              "<table border=\"1\" class=\"dataframe\">\n",
              "  <thead>\n",
              "    <tr style=\"text-align: right;\">\n",
              "      <th></th>\n",
              "      <th>mean_fit_time</th>\n",
              "      <th>std_fit_time</th>\n",
              "      <th>mean_score_time</th>\n",
              "      <th>std_score_time</th>\n",
              "      <th>param_ccp_alpha</th>\n",
              "      <th>param_criterion</th>\n",
              "      <th>param_max_depth</th>\n",
              "      <th>param_max_leaf_nodes</th>\n",
              "      <th>param_min_impurity_decrease</th>\n",
              "      <th>param_min_samples_leaf</th>\n",
              "      <th>param_min_samples_split</th>\n",
              "      <th>params</th>\n",
              "      <th>split0_test_score</th>\n",
              "      <th>split1_test_score</th>\n",
              "      <th>split2_test_score</th>\n",
              "      <th>split3_test_score</th>\n",
              "      <th>split4_test_score</th>\n",
              "      <th>mean_test_score</th>\n",
              "      <th>std_test_score</th>\n",
              "      <th>rank_test_score</th>\n",
              "    </tr>\n",
              "  </thead>\n",
              "  <tbody>\n",
              "    <tr>\n",
              "      <th>0</th>\n",
              "      <td>0.000893</td>\n",
              "      <td>0.000125</td>\n",
              "      <td>0.000391</td>\n",
              "      <td>0.000053</td>\n",
              "      <td>0</td>\n",
              "      <td>gini</td>\n",
              "      <td>4</td>\n",
              "      <td>2</td>\n",
              "      <td>0</td>\n",
              "      <td>4</td>\n",
              "      <td>8</td>\n",
              "      <td>{'ccp_alpha': 0, 'criterion': 'gini', 'max_dep...</td>\n",
              "      <td>0.928571</td>\n",
              "      <td>0.928571</td>\n",
              "      <td>0.880952</td>\n",
              "      <td>0.912698</td>\n",
              "      <td>0.92</td>\n",
              "      <td>0.914159</td>\n",
              "      <td>0.017632</td>\n",
              "      <td>145</td>\n",
              "    </tr>\n",
              "    <tr>\n",
              "      <th>1</th>\n",
              "      <td>0.000691</td>\n",
              "      <td>0.000023</td>\n",
              "      <td>0.000353</td>\n",
              "      <td>0.000042</td>\n",
              "      <td>0</td>\n",
              "      <td>gini</td>\n",
              "      <td>4</td>\n",
              "      <td>2</td>\n",
              "      <td>0</td>\n",
              "      <td>4</td>\n",
              "      <td>4</td>\n",
              "      <td>{'ccp_alpha': 0, 'criterion': 'gini', 'max_dep...</td>\n",
              "      <td>0.928571</td>\n",
              "      <td>0.928571</td>\n",
              "      <td>0.880952</td>\n",
              "      <td>0.912698</td>\n",
              "      <td>0.92</td>\n",
              "      <td>0.914159</td>\n",
              "      <td>0.017632</td>\n",
              "      <td>145</td>\n",
              "    </tr>\n",
              "    <tr>\n",
              "      <th>2</th>\n",
              "      <td>0.000684</td>\n",
              "      <td>0.000015</td>\n",
              "      <td>0.000327</td>\n",
              "      <td>0.000017</td>\n",
              "      <td>0</td>\n",
              "      <td>gini</td>\n",
              "      <td>4</td>\n",
              "      <td>2</td>\n",
              "      <td>0</td>\n",
              "      <td>4</td>\n",
              "      <td>2</td>\n",
              "      <td>{'ccp_alpha': 0, 'criterion': 'gini', 'max_dep...</td>\n",
              "      <td>0.928571</td>\n",
              "      <td>0.928571</td>\n",
              "      <td>0.880952</td>\n",
              "      <td>0.912698</td>\n",
              "      <td>0.92</td>\n",
              "      <td>0.914159</td>\n",
              "      <td>0.017632</td>\n",
              "      <td>145</td>\n",
              "    </tr>\n",
              "    <tr>\n",
              "      <th>3</th>\n",
              "      <td>0.000696</td>\n",
              "      <td>0.000016</td>\n",
              "      <td>0.000318</td>\n",
              "      <td>0.000021</td>\n",
              "      <td>0</td>\n",
              "      <td>gini</td>\n",
              "      <td>4</td>\n",
              "      <td>2</td>\n",
              "      <td>0</td>\n",
              "      <td>3</td>\n",
              "      <td>8</td>\n",
              "      <td>{'ccp_alpha': 0, 'criterion': 'gini', 'max_dep...</td>\n",
              "      <td>0.928571</td>\n",
              "      <td>0.928571</td>\n",
              "      <td>0.880952</td>\n",
              "      <td>0.912698</td>\n",
              "      <td>0.92</td>\n",
              "      <td>0.914159</td>\n",
              "      <td>0.017632</td>\n",
              "      <td>145</td>\n",
              "    </tr>\n",
              "    <tr>\n",
              "      <th>4</th>\n",
              "      <td>0.000909</td>\n",
              "      <td>0.000175</td>\n",
              "      <td>0.000460</td>\n",
              "      <td>0.000098</td>\n",
              "      <td>0</td>\n",
              "      <td>gini</td>\n",
              "      <td>4</td>\n",
              "      <td>2</td>\n",
              "      <td>0</td>\n",
              "      <td>3</td>\n",
              "      <td>4</td>\n",
              "      <td>{'ccp_alpha': 0, 'criterion': 'gini', 'max_dep...</td>\n",
              "      <td>0.928571</td>\n",
              "      <td>0.928571</td>\n",
              "      <td>0.880952</td>\n",
              "      <td>0.912698</td>\n",
              "      <td>0.92</td>\n",
              "      <td>0.914159</td>\n",
              "      <td>0.017632</td>\n",
              "      <td>145</td>\n",
              "    </tr>\n",
              "    <tr>\n",
              "      <th>...</th>\n",
              "      <td>...</td>\n",
              "      <td>...</td>\n",
              "      <td>...</td>\n",
              "      <td>...</td>\n",
              "      <td>...</td>\n",
              "      <td>...</td>\n",
              "      <td>...</td>\n",
              "      <td>...</td>\n",
              "      <td>...</td>\n",
              "      <td>...</td>\n",
              "      <td>...</td>\n",
              "      <td>...</td>\n",
              "      <td>...</td>\n",
              "      <td>...</td>\n",
              "      <td>...</td>\n",
              "      <td>...</td>\n",
              "      <td>...</td>\n",
              "      <td>...</td>\n",
              "      <td>...</td>\n",
              "      <td>...</td>\n",
              "    </tr>\n",
              "    <tr>\n",
              "      <th>1291</th>\n",
              "      <td>0.000916</td>\n",
              "      <td>0.000103</td>\n",
              "      <td>0.000349</td>\n",
              "      <td>0.000025</td>\n",
              "      <td>0.5</td>\n",
              "      <td>entropy</td>\n",
              "      <td>8</td>\n",
              "      <td>None</td>\n",
              "      <td>0.1</td>\n",
              "      <td>2</td>\n",
              "      <td>4</td>\n",
              "      <td>{'ccp_alpha': 0.5, 'criterion': 'entropy', 'ma...</td>\n",
              "      <td>0.928571</td>\n",
              "      <td>0.928571</td>\n",
              "      <td>0.880952</td>\n",
              "      <td>0.912698</td>\n",
              "      <td>0.92</td>\n",
              "      <td>0.914159</td>\n",
              "      <td>0.017632</td>\n",
              "      <td>145</td>\n",
              "    </tr>\n",
              "    <tr>\n",
              "      <th>1292</th>\n",
              "      <td>0.000945</td>\n",
              "      <td>0.000046</td>\n",
              "      <td>0.000359</td>\n",
              "      <td>0.000025</td>\n",
              "      <td>0.5</td>\n",
              "      <td>entropy</td>\n",
              "      <td>8</td>\n",
              "      <td>None</td>\n",
              "      <td>0.1</td>\n",
              "      <td>2</td>\n",
              "      <td>2</td>\n",
              "      <td>{'ccp_alpha': 0.5, 'criterion': 'entropy', 'ma...</td>\n",
              "      <td>0.928571</td>\n",
              "      <td>0.928571</td>\n",
              "      <td>0.880952</td>\n",
              "      <td>0.912698</td>\n",
              "      <td>0.92</td>\n",
              "      <td>0.914159</td>\n",
              "      <td>0.017632</td>\n",
              "      <td>145</td>\n",
              "    </tr>\n",
              "    <tr>\n",
              "      <th>1293</th>\n",
              "      <td>0.000831</td>\n",
              "      <td>0.000027</td>\n",
              "      <td>0.000328</td>\n",
              "      <td>0.000014</td>\n",
              "      <td>0.5</td>\n",
              "      <td>entropy</td>\n",
              "      <td>8</td>\n",
              "      <td>None</td>\n",
              "      <td>0.1</td>\n",
              "      <td>1</td>\n",
              "      <td>8</td>\n",
              "      <td>{'ccp_alpha': 0.5, 'criterion': 'entropy', 'ma...</td>\n",
              "      <td>0.928571</td>\n",
              "      <td>0.928571</td>\n",
              "      <td>0.880952</td>\n",
              "      <td>0.912698</td>\n",
              "      <td>0.92</td>\n",
              "      <td>0.914159</td>\n",
              "      <td>0.017632</td>\n",
              "      <td>145</td>\n",
              "    </tr>\n",
              "    <tr>\n",
              "      <th>1294</th>\n",
              "      <td>0.000874</td>\n",
              "      <td>0.000019</td>\n",
              "      <td>0.000358</td>\n",
              "      <td>0.000025</td>\n",
              "      <td>0.5</td>\n",
              "      <td>entropy</td>\n",
              "      <td>8</td>\n",
              "      <td>None</td>\n",
              "      <td>0.1</td>\n",
              "      <td>1</td>\n",
              "      <td>4</td>\n",
              "      <td>{'ccp_alpha': 0.5, 'criterion': 'entropy', 'ma...</td>\n",
              "      <td>0.928571</td>\n",
              "      <td>0.928571</td>\n",
              "      <td>0.880952</td>\n",
              "      <td>0.912698</td>\n",
              "      <td>0.92</td>\n",
              "      <td>0.914159</td>\n",
              "      <td>0.017632</td>\n",
              "      <td>145</td>\n",
              "    </tr>\n",
              "    <tr>\n",
              "      <th>1295</th>\n",
              "      <td>0.000906</td>\n",
              "      <td>0.000057</td>\n",
              "      <td>0.000389</td>\n",
              "      <td>0.000058</td>\n",
              "      <td>0.5</td>\n",
              "      <td>entropy</td>\n",
              "      <td>8</td>\n",
              "      <td>None</td>\n",
              "      <td>0.1</td>\n",
              "      <td>1</td>\n",
              "      <td>2</td>\n",
              "      <td>{'ccp_alpha': 0.5, 'criterion': 'entropy', 'ma...</td>\n",
              "      <td>0.928571</td>\n",
              "      <td>0.928571</td>\n",
              "      <td>0.880952</td>\n",
              "      <td>0.912698</td>\n",
              "      <td>0.92</td>\n",
              "      <td>0.914159</td>\n",
              "      <td>0.017632</td>\n",
              "      <td>145</td>\n",
              "    </tr>\n",
              "  </tbody>\n",
              "</table>\n",
              "<p>1296 rows × 20 columns</p>\n",
              "</div>"
            ],
            "text/plain": [
              "      mean_fit_time  std_fit_time  ...  std_test_score  rank_test_score\n",
              "0          0.000893      0.000125  ...        0.017632              145\n",
              "1          0.000691      0.000023  ...        0.017632              145\n",
              "2          0.000684      0.000015  ...        0.017632              145\n",
              "3          0.000696      0.000016  ...        0.017632              145\n",
              "4          0.000909      0.000175  ...        0.017632              145\n",
              "...             ...           ...  ...             ...              ...\n",
              "1291       0.000916      0.000103  ...        0.017632              145\n",
              "1292       0.000945      0.000046  ...        0.017632              145\n",
              "1293       0.000831      0.000027  ...        0.017632              145\n",
              "1294       0.000874      0.000019  ...        0.017632              145\n",
              "1295       0.000906      0.000057  ...        0.017632              145\n",
              "\n",
              "[1296 rows x 20 columns]"
            ]
          },
          "metadata": {},
          "execution_count": 16
        }
      ]
    },
    {
      "cell_type": "markdown",
      "metadata": {
        "id": "uWAN_wWXHMOQ"
      },
      "source": [
        "2. What is boosting, bagging and  stacking?\n",
        "Which class does random forests belong to and why?"
      ]
    },
    {
      "cell_type": "markdown",
      "metadata": {
        "id": "LnO5uqHlHMOR"
      },
      "source": [
        "Answer:\n",
        "\n",
        "Bagging: A number of weak classifiers are trained parallely and independently, until the train data is classified or number of models is reached, and combined to form a strong classifier. This is known as boosting\n",
        "\n",
        "Boosting: A number of week classifiers are trained sequentially such that the current classifier is based on the previous one. These models are than combined to form a strong classifier. This is known as bagging.\n",
        "\n",
        "Stacking: A number of weak classifiers are trained parallely to generate intermediate outputs. A model is then trained on these intermediate outputs to give out the final result. This is known as stacking.\n",
        "\n",
        "Random Forests: RFs fall under Bagging as many trees are trained parallely and then their outputs are combined, by votes, to finalise the classification."
      ]
    },
    {
      "cell_type": "markdown",
      "metadata": {
        "id": "pihvGbqLHMOS"
      },
      "source": [
        "3. Implement random forest algorithm using different decision trees . "
      ]
    },
    {
      "cell_type": "code",
      "metadata": {
        "id": "dXdPP2aIHMOT"
      },
      "source": [
        "from sklearn.ensemble import RandomForestClassifier\n",
        "import numpy as np"
      ],
      "execution_count": 17,
      "outputs": []
    },
    {
      "cell_type": "code",
      "metadata": {
        "colab": {
          "base_uri": "https://localhost:8080/"
        },
        "id": "q5i8xZgl-QLo",
        "outputId": "4954c076-4ae9-49d8-8476-5166fcc3c1cc"
      },
      "source": [
        "rf_gini = RandomForestClassifier(random_state=4)\n",
        "rf_gini = rf_gini.fit(X_train,y_train)\n",
        "rf_gini.score(X_test,y_test)"
      ],
      "execution_count": 18,
      "outputs": [
        {
          "output_type": "execute_result",
          "data": {
            "text/plain": [
              "0.9571428571428572"
            ]
          },
          "metadata": {},
          "execution_count": 18
        }
      ]
    },
    {
      "cell_type": "code",
      "metadata": {
        "id": "e4LPz93B-QLo"
      },
      "source": [
        "def RandomForest(X,y, num_trees=100):\n",
        "    rf = []\n",
        "    for i in range(num_trees):\n",
        "        sample_idx = np.random.randint(0, X.shape[0], size=int(X.shape[0]*0.66))\n",
        "        X_bootstrap,y_bootstrap = X[sample_idx], y[sample_idx]\n",
        "        tree_in_forest = tree.DecisionTreeClassifier(random_state=i, max_features='auto')\n",
        "        rf.append(tree_in_forest.fit(X_bootstrap, y_bootstrap))\n",
        "\n",
        "    return rf\n",
        "        \n",
        "# Testing\n",
        "def predict_rf(rf, X_test):\n",
        "    test_res = []\n",
        "    for dt in rf:\n",
        "        y_hat = dt.predict(X_test)\n",
        "        test_res.append(y_hat)\n",
        "\n",
        "    test_res = np.array(test_res)\n",
        "    y_hat_aggr = []\n",
        "    for test in test_res.T:\n",
        "        y_hat, counts = np.unique(test,return_counts=True)\n",
        "        y_hat_aggr.append(y_hat[counts.argmax()])\n",
        "    return y_hat_aggr\n",
        "    \n",
        "def test_rf(y_test, y_hat):\n",
        "    accuracy = (y_test == y_hat).sum()\n",
        "    accuracy /= len(y_test)\n",
        "    return accuracy"
      ],
      "execution_count": 19,
      "outputs": []
    },
    {
      "cell_type": "code",
      "metadata": {
        "id": "AeX1up6u-QLp"
      },
      "source": [
        "rf = RandomForest(X_train,y_train)"
      ],
      "execution_count": 20,
      "outputs": []
    },
    {
      "cell_type": "code",
      "metadata": {
        "id": "lxjNuFFA-QLp"
      },
      "source": [
        "y_hat = predict_rf(rf, X_test)"
      ],
      "execution_count": 21,
      "outputs": []
    },
    {
      "cell_type": "code",
      "metadata": {
        "colab": {
          "base_uri": "https://localhost:8080/"
        },
        "id": "1rjEyq9j-QLp",
        "outputId": "1ec471dd-6222-4a19-e9db-095ba99c5b99"
      },
      "source": [
        "test_rf(y_test,y_hat)"
      ],
      "execution_count": 22,
      "outputs": [
        {
          "output_type": "execute_result",
          "data": {
            "text/plain": [
              "0.9571428571428572"
            ]
          },
          "metadata": {},
          "execution_count": 22
        }
      ]
    },
    {
      "cell_type": "markdown",
      "metadata": {
        "id": "zJOn5nNZHMOU"
      },
      "source": [
        "4. Report the accuracies obtained after using the Random forest algorithm and compare it with the best accuracies obtained with the decision trees. "
      ]
    },
    {
      "cell_type": "code",
      "metadata": {
        "id": "Ce4KiiIGHMOV",
        "colab": {
          "base_uri": "https://localhost:8080/"
        },
        "outputId": "b634ac17-222b-475d-b137-270298ad5b4f"
      },
      "source": [
        "print(\"Decision Trees test accuracy:\",(metrics.accuracy_score(y_hat_entropy, y_test)))\n",
        "print(f\"\\nRandom Forest test accuracy:\", (metrics.accuracy_score(y_hat, y_test)))\n",
        "print(\"\\nRandom Forest accuracy > Decision Trees accuracy\")"
      ],
      "execution_count": 23,
      "outputs": [
        {
          "output_type": "stream",
          "name": "stdout",
          "text": [
            "Decision Trees test accuracy: 0.9428571428571428\n",
            "\n",
            "Random Forest test accuracy: 0.9571428571428572\n",
            "\n",
            "Random Forest accuracy > Decision Trees accuracy\n"
          ]
        }
      ]
    },
    {
      "cell_type": "markdown",
      "metadata": {
        "id": "yj-vNvsYHMOX"
      },
      "source": [
        "5. Submit your solution as a separate pdf in the final zip file of your submission\n",
        "\n",
        "\n",
        "Compute a decision tree with the goal to predict the food review based on its smell, taste and portion size.\n",
        "\n",
        "(a) Compute the entropy of each rule in the first stage.\n",
        "\n",
        "(b) Show the final decision tree. Clearly draw it.\n",
        "\n",
        "Submit a handwritten response. Clearly show all the steps.\n",
        "\n"
      ]
    },
    {
      "cell_type": "markdown",
      "metadata": {
        "id": "-a3MDG_7V57_"
      },
      "source": [
        "PDF zipped with the notebook"
      ]
    },
    {
      "cell_type": "markdown",
      "metadata": {
        "id": "-RUShQ-bWlzy"
      },
      "source": [
        "---"
      ]
    }
  ]
}